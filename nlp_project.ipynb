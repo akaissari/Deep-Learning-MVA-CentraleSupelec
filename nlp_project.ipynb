{
 "cells": [
  {
   "cell_type": "markdown",
   "metadata": {},
   "source": [
    "# Deep Learning for NLP - Project"
   ]
  },
  {
   "cell_type": "markdown",
   "metadata": {},
   "source": [
    "RULES:\n",
    "\n",
    "* Do not create any additional cell\n",
    "\n",
    "* Fill in the blanks\n",
    "\n",
    "* All cells should be runnable (modulo trivial compatibility bugs that we'd fix)\n",
    "\n",
    "* 4 / 20 points will be allocated to the clarity of your code\n",
    "\n",
    "* Efficient code will have a bonus\n",
    "\n",
    "DELIVERABLE:\n",
    "\n",
    "* the pdf with your answers\n",
    "* this notebook\n",
    "* the predictions of the SST test set\n",
    "\n",
    "DO NOT INCLUDE THE DATASETS IN THE DELIVERABLE.."
   ]
  },
  {
   "cell_type": "code",
   "execution_count": 15,
   "metadata": {
    "jupyter": {
     "outputs_hidden": false
    }
   },
   "outputs": [],
   "source": [
    "# Python 3.6 or above is required\n",
    "from collections import defaultdict\n",
    "import gzip\n",
    "import numpy as np\n",
    "from pathlib import Path\n",
    "import scipy.linalg\n",
    "from urllib.request import urlretrieve"
   ]
  },
  {
   "cell_type": "code",
   "execution_count": 16,
   "metadata": {},
   "outputs": [],
   "source": [
    "PATH_TO_DATA = Path('data/')\n",
    "# Download word vectors, might take a few minutes and about ~3GB of storage space\n",
    "en_embeddings_path = PATH_TO_DATA / 'cc.en.300.vec.gz'\n",
    "if not en_embeddings_path.exists():\n",
    "    urlretrieve('https://dl.fbaipublicfiles.com/fasttext/vectors-crawl/cc.en.300.vec.gz', en_embeddings_path)\n",
    "fr_embeddings_path = PATH_TO_DATA / 'cc.fr.300.vec.gz'\n",
    "if not fr_embeddings_path.exists():\n",
    "    urlretrieve('https://dl.fbaipublicfiles.com/fasttext/vectors-crawl/cc.fr.300.vec.gz', fr_embeddings_path)"
   ]
  },
  {
   "cell_type": "markdown",
   "metadata": {},
   "source": [
    "# 1) Monolingual (English) word embeddings "
   ]
  },
  {
   "cell_type": "code",
   "execution_count": 17,
   "metadata": {},
   "outputs": [],
   "source": [
    "class Word2Vec():\n",
    "\n",
    "    def __init__(self, filepath, vocab_size=50000):\n",
    "        self.words, self.embeddings = self.load_wordvec(filepath, vocab_size)\n",
    "        # Mappings for O(1) retrieval:\n",
    "        self.word2id = {word: idx for idx, word in enumerate(self.words)}\n",
    "        self.id2word = {idx: word for idx, word in enumerate(self.words)}\n",
    "    \n",
    "    def load_wordvec(self, filepath, vocab_size):\n",
    "        assert str(filepath).endswith('.gz')\n",
    "        words = []\n",
    "        embeddings = []\n",
    "        with gzip.open(filepath, 'rt', encoding = 'utf-8') as f:  # Read compressed file directly\n",
    "            next(f)  # Skip header\n",
    "            for i, line in enumerate(f):\n",
    "                word, vec = line.split(' ', 1)\n",
    "                words.append(word)\n",
    "                embeddings.append(np.fromstring(vec, sep=' '))\n",
    "                if i == (vocab_size - 1):\n",
    "                    break\n",
    "        print('Loaded %s pretrained word vectors' % (len(words)))\n",
    "        return words, np.vstack(embeddings)\n",
    "    \n",
    "    def encode(self, word):\n",
    "        # Returns the 1D embedding of a given word\n",
    "        # if the word in our dict we return the embedding loaded\n",
    "        # otherwise we return a 1D unifrom random array with the same shape (300)\n",
    "            return self.embeddings[self.word2id[word]]\n",
    "    \n",
    "    def score(self, word1, word2):\n",
    "        # Return the cosine similarity: use np.dot & np.linalg.norm\n",
    "        v1 = self.encode(word1)\n",
    "        v2 = self.encode(word2)\n",
    "        return np.dot(v1,v2)/(np.linalg.norm(v1)*np.linalg.norm(v2))\n",
    "    \n",
    "    def most_similar(self, word, k=5):\n",
    "        # Returns the k most similar words: self.score & np.argsort\n",
    "        # we compute the scores between word and all the others words\n",
    "        scores = [ self.score(word, word2) for word2 in self.words] \n",
    "        #we use np.argsort to have indxs of the sorted list\n",
    "        #and we invert the array to have a decreasing order\n",
    "        idxs = np.argsort(scores)[::-1]\n",
    "        # we don't take the first word because it s the same word\n",
    "        return [self.id2word[i] for i in idxs[1:k+1]]"
   ]
  },
  {
   "cell_type": "code",
   "execution_count": 18,
   "metadata": {
    "jupyter": {
     "outputs_hidden": false
    }
   },
   "outputs": [
    {
     "name": "stdout",
     "output_type": "stream",
     "text": [
      "Loaded 100000 pretrained word vectors\n",
      "cat tree 0.26449754661654756\n",
      "cat dog 0.7078641298542564\n",
      "cat pet 0.6753313359976382\n",
      "Paris France 0.6892958925806543\n",
      "Paris Germany 0.4051242286737549\n",
      "Paris baguette 0.29399958277802224\n",
      "Paris donut -0.006588507552348003\n",
      "['cats', 'kitty', 'kitten', 'feline', 'dog']\n",
      "['dogs', 'puppy', 'pup', 'canine', 'pet']\n",
      "['dog', 'cats', 'canines', 'doggies', 'puppies']\n",
      "['France', 'Parisian', 'Marseille', 'Brussels', 'Marseilles']\n",
      "['Austria', 'Europe', 'Berlin', 'Hamburg', 'Bavaria']\n"
     ]
    }
   ],
   "source": [
    "word2vec = Word2Vec(en_embeddings_path, vocab_size=100000)\n",
    "\n",
    "# You will be evaluated on the output of the following:\n",
    "for word1, word2 in zip(('cat', 'cat', 'cat', 'Paris', 'Paris', 'Paris', 'Paris'), ('tree', 'dog', 'pet', 'France', 'Germany', 'baguette', 'donut')):\n",
    "    print(word1, word2, word2vec.score(word1, word2))\n",
    "for word in ['cat', 'dog', 'dogs', 'Paris', 'Germany']:\n",
    "    print(word2vec.most_similar(word))"
   ]
  },
  {
   "cell_type": "code",
   "execution_count": 56,
   "metadata": {
    "jupyter": {
     "outputs_hidden": false
    }
   },
   "outputs": [],
   "source": [
    "class BagOfWords():\n",
    "    \n",
    "    def __init__(self, word2vec):\n",
    "        self.word2vec = word2vec\n",
    "    \n",
    "    def build_idf(self, sentences):\n",
    "        # build the idf dictionary: associate each word to its idf value\n",
    "        # -> idf = {word: idf_value, ...}\n",
    "        idf = {}\n",
    "        occ = defaultdict(int)\n",
    "        for sentence in sentences :\n",
    "            for word in set(sentence.split()):\n",
    "                occ[word]+=1\n",
    "        for word in occ.keys():\n",
    "            idf[word] = np.log10(len(sentences))/occ[word]\n",
    "        return idf\n",
    "    def encode(self, sentence, idf=None):\n",
    "        # Takes a sentence as input, returns the sentence embedding\n",
    "        # we ignored the words that doesn't exist in the embedding used\n",
    "        word_vectors = np.array(list(self.word2vec.encode(word) for word in sentence.split() if word in self.word2vec.words))\n",
    "        if idf is None:\n",
    "            # mean of word vectors\n",
    "            out = np.mean(word_vectors,axis=0)\n",
    "        else:\n",
    "            # idf-weighted mean of word vectors\n",
    "            weights_idf = [idf[word] for word in sentence.split() if word in self.word2vec.words ]\n",
    "            out = np.average(word_vectors, weights = weights_idf, axis=0)\n",
    "        return out\n",
    "    \n",
    "    def score(self, sentence1, sentence2, idf=None):\n",
    "        # cosine similarity: use np.dot & np.linalg.norm \n",
    "        v1 = self.encode(sentence1,idf)\n",
    "        v2 = self.encode(sentence2,idf)\n",
    "        return np.dot(v1,v2)/(np.linalg.norm(v1)*np.linalg.norm(v2))\n",
    "    \n",
    "    def most_similar(self, sentence, sentences, idf=None, k=5):\n",
    "        # Return most similar sentences\n",
    "        query = self.encode(sentence, idf)\n",
    "        keys = np.vstack([self.encode(sentence, idf) for sentence in sentences])\n",
    "        scores = [self.score(sentence,sentence2,idf) for sentence2 in sentences]\n",
    "        idxs = np.argsort(scores)[::-1]\n",
    "        return [sentences[i] for i in idxs[:k]]\n",
    "        "
   ]
  },
  {
   "cell_type": "code",
   "execution_count": 57,
   "metadata": {
    "jupyter": {
     "outputs_hidden": false
    }
   },
   "outputs": [
    {
     "name": "stdout",
     "output_type": "stream",
     "text": [
      "Loaded 50000 pretrained word vectors\n",
      "\n",
      "\tAverage of word embeddings\n",
      "1 man singing and 1 man playing a saxophone in a concert . \n",
      "10 people venture out to go crosscountry skiing . \n",
      "0.7065220648251475\n",
      "1 smiling african american boy . \n",
      "1) 1 smiling african american boy . \n",
      "2) 2 woman dancing while pointing . \n",
      "3) 5 women and 1 man are smiling for the camera . \n",
      "4) a small boy following 4 geese . \n",
      "5) 2 female babies eating chips . \n",
      "\n",
      "\tidf weighted average of word embeddings\n",
      "1 man singing and 1 man playing a saxophone in a concert . \n",
      "10 people venture out to go crosscountry skiing . \n",
      "0.4511104540877974\n",
      "2 female babies eating chips . \n",
      "1) 2 female babies eating chips . \n",
      "2) an old man with a bag of chips sits with a younger man holding a drink . \n",
      "3) old man eating meat and chips . \n",
      "4) the man is drinking beer while the other one eats chips . \n",
      "5) a man in blue is working on a wood project , and the wood chips are going into a green can . \n"
     ]
    }
   ],
   "source": [
    "word2vec = Word2Vec(en_embeddings_path, vocab_size=50000)\n",
    "sentence2vec = BagOfWords(word2vec)\n",
    "\n",
    "# Load sentences in \"PATH_TO_DATA/sentences.txt\"\n",
    "filepath = PATH_TO_DATA / 'sentences.txt'\n",
    "with open(filepath, 'r') as f:\n",
    "    sentences = [line.strip('\\n') for line in f]\n",
    "\n",
    "\n",
    "# You will be evaluated on the output of the following:\n",
    "print('\\n\\tAverage of word embeddings')\n",
    "sentence1 = sentences[7]\n",
    "sentence2 = sentences[13]\n",
    "print(sentence1)\n",
    "print(sentence2)\n",
    "print(sentence2vec.score(sentence1, sentence2))\n",
    "sentence = sentences[10]\n",
    "similar_sentences = sentence2vec.most_similar(sentence, sentences)  # BagOfWords-mean\n",
    "print(sentence)\n",
    "for i, sentence in enumerate(similar_sentences):\n",
    "    print(str(i+1) + ')', sentence)\n",
    "\n",
    "# Build idf scores for each word\n",
    "idf = sentence2vec.build_idf(sentences)\n",
    "\n",
    "print('\\n\\tidf weighted average of word embeddings')\n",
    "print(sentence1)\n",
    "print(sentence2)\n",
    "print(sentence2vec.score(sentence1, sentence2, idf))\n",
    "similar_sentences = sentence2vec.most_similar(sentence, sentences, idf)  # BagOfWords-idf\n",
    "print(sentence)\n",
    "for i, sentence in enumerate(similar_sentences):\n",
    "    print(str(i+1) + ')', sentence)"
   ]
  },
  {
   "cell_type": "markdown",
   "metadata": {},
   "source": [
    "# 2) Multilingual (English-French) word embeddings"
   ]
  },
  {
   "cell_type": "markdown",
   "metadata": {},
   "source": [
    "Let's consider a bilingual dictionary of size V_a (e.g French-English).\n",
    "\n",
    "Let's define **X** and **Y** the **French** and **English** matrices.\n",
    "\n",
    "They contain the embeddings associated to the words in the bilingual dictionary.\n",
    "\n",
    "We want to find a **mapping W** that will project the source word space (e.g French) to the target word space (e.g English).\n",
    "\n",
    "Procrustes : **W\\* = argmin || W.X - Y ||  s.t  W^T.W = Id**\n",
    "has a closed form solution:\n",
    "**W = U.V^T  where  U.Sig.V^T = SVD(Y.X^T)**\n",
    "\n",
    "In what follows, you are asked to: "
   ]
  },
  {
   "cell_type": "code",
   "execution_count": 58,
   "metadata": {},
   "outputs": [],
   "source": [
    "class MultilingualWordAligner:\n",
    "    \n",
    "    def __init__(self, fr_word2vec, en_word2vec):\n",
    "        self.fr_word2vec = fr_word2vec\n",
    "        self.en_word2vec = en_word2vec\n",
    "        self.aligned_fr_embeddings = self.get_aligned_fr_embeddings()\n",
    "        \n",
    "    def get_aligned_fr_embeddings(self):\n",
    "        # 1 - Get words that appear in both vocabs (= identical character strings)\n",
    "        #     Use it to create the matrix X (emb_dim, vocab_size) and Y (emb_dim, vocab_size) (of embeddings for these words)\n",
    "        words_en = self.en_word2vec.words\n",
    "        words_fr = self.fr_word2vec.words\n",
    "        common_words = set(words_en).intersection(set(words_fr))\n",
    "        X = np.concatenate([self.fr_word2vec.encode(word).reshape(1,-1) for word in common_words ]).T\n",
    "        Y = np.concatenate([self.en_word2vec.encode(word).reshape(1,-1) for word in common_words ]).T\n",
    "\n",
    "        assert X.shape[0] == 300 and Y.shape[0] == 300\n",
    "        \n",
    "        # 2 - Solve the Procrustes using the numpy package and: np.linalg.svd() and get the optimal W\n",
    "        #     Now self.fr_word2vec.embeddings * W.transpose() is in the same space as en_word2vec.embeddings\n",
    "        U,s,V = scipy.linalg.svd(Y.dot(X.T))\n",
    "        W = U.dot(V)\n",
    "        assert W.shape == (300, 300)\n",
    "        return np.matmul(fr_word2vec.embeddings, W.transpose())\n",
    "        \n",
    "    def get_closest_english_words(self, fr_word, k=3):\n",
    "        # 3 - Return the top k English nearest neighbors to the input French word\n",
    "        # we search the index of the word in fr_word2vec.words\n",
    "        index = None\n",
    "        for i in range(len(self.fr_word2vec.words)):\n",
    "            if self.fr_word2vec.words[i] == fr_word : index = i\n",
    "        if index == None :\n",
    "            raise Exception('The word to be translated does not exist in the dictionary')\n",
    "        trans_embed =  self.aligned_fr_embeddings[index]    \n",
    "        scores = [np.dot(trans_embed,self.en_word2vec.encode(eng_word))/(np.linalg.norm(trans_embed)*np.linalg.norm(self.en_word2vec.encode(eng_word)))\n",
    "                 for eng_word in self.en_word2vec.words]\n",
    "        idxs = np.argsort(scores)[::-1]\n",
    "        return [self.en_word2vec.id2word[i] for i in idxs[:k]]"
   ]
  },
  {
   "cell_type": "code",
   "execution_count": 59,
   "metadata": {},
   "outputs": [
    {
     "name": "stdout",
     "output_type": "stream",
     "text": [
      "Loaded 50000 pretrained word vectors\n",
      "Loaded 50000 pretrained word vectors\n",
      "----------\n",
      "fr: \"chat\"\n",
      "en: \"cat\"\n",
      "en: \"kitten\"\n",
      "en: \"kitty\"\n",
      "----------\n",
      "fr: \"chien\"\n",
      "en: \"dog\"\n",
      "en: \"cat\"\n",
      "en: \"pet\"\n",
      "----------\n",
      "fr: \"voiture\"\n",
      "en: \"car\"\n",
      "en: \"vehicle\"\n",
      "en: \"automobile\"\n",
      "----------\n",
      "fr: \"zut\"\n",
      "en: \"oops\"\n",
      "en: \"Ah\"\n",
      "en: \"ah\"\n"
     ]
    }
   ],
   "source": [
    "fr_word2vec = Word2Vec(fr_embeddings_path, vocab_size=50000)\n",
    "en_word2vec = Word2Vec(en_embeddings_path, vocab_size=50000)\n",
    "multilingual_word_aligner = MultilingualWordAligner(fr_word2vec, en_word2vec)\n",
    "\n",
    "# You will be evaluated on the output of the following:\n",
    "fr_words = ['chat', 'chien', 'voiture', 'zut']\n",
    "k = 3\n",
    "for fr_word in fr_words:\n",
    "    print('-' * 10)\n",
    "    print(f'fr: \"{fr_word}\"')\n",
    "    en_words = multilingual_word_aligner.get_closest_english_words(fr_word, k=3)\n",
    "    for en_word in en_words:\n",
    "        print(f'en: \"{en_word}\"')"
   ]
  },
  {
   "cell_type": "markdown",
   "metadata": {},
   "source": [
    "If you want to dive deeper on this subject: https://github.com/facebookresearch/MUSE"
   ]
  },
  {
   "cell_type": "markdown",
   "metadata": {},
   "source": [
    "# 3) Sentence classification with BoV and scikit-learn"
   ]
  },
  {
   "cell_type": "code",
   "execution_count": 60,
   "metadata": {},
   "outputs": [
    {
     "name": "stdout",
     "output_type": "stream",
     "text": [
      "Loaded 100000 pretrained word vectors\n"
     ]
    }
   ],
   "source": [
    "# 1 - Load train/dev/test of Stanford Sentiment TreeBank (SST)\n",
    "#     (https://nlp.stanford.edu/~socherr/EMNLP2013_RNTN.pdf)\n",
    "train_filepath = PATH_TO_DATA / 'SST/stsa.fine.train'\n",
    "dev_filepath = PATH_TO_DATA / 'SST/stsa.fine.dev'\n",
    "test_filepath = PATH_TO_DATA / 'SST/stsa.fine.test.X'\n",
    "\n",
    "word2vec = Word2Vec(en_embeddings_path, vocab_size=100000)\n",
    "sentence2vec = BagOfWords(word2vec)\n",
    "\n",
    "# TYPE CODE HERE\n",
    "def load_data(path):\n",
    "    raw = []\n",
    "    y = []\n",
    "    with open(path, encoding='utf-8') as f:\n",
    "        for line in f:\n",
    "            tokens = line.split()\n",
    "            y.append(int(tokens[0]))\n",
    "            #we delete the words that didn't figure in our dictionnaire\n",
    "            sentence = ' '.join(word for word in tokens[1:] if word in word2vec.words)\n",
    "            raw.append(sentence)\n",
    "    return raw, y   \n",
    "\n",
    "def load_data_test(path):\n",
    "    raw = []\n",
    "    with open(path, encoding='utf-8') as f:\n",
    "        for line in f:\n",
    "            tokens = line.split()\n",
    "            sentence = ' '.join(word for word in tokens if word in word2vec.words)\n",
    "            raw.append(sentence)\n",
    "    return raw\n",
    "\n",
    "train_raw, y_train = load_data(train_filepath)\n",
    "dev_raw, y_dev = load_data(dev_filepath)\n",
    "test_raw= load_data_test(test_filepath)"
   ]
  },
  {
   "cell_type": "code",
   "execution_count": 61,
   "metadata": {},
   "outputs": [],
   "source": [
    "# 2 - Encode sentences with the BoV model above\n",
    "# TYPE CODE HERE\n",
    "\n",
    "X_train_bov = [sentence2vec.encode(sentence) for sentence in train_raw]\n",
    "idf_train = sentence2vec.build_idf(train_raw)\n",
    "X_train_bov_idf = [sentence2vec.encode(sentence,idf_train) for sentence in train_raw]\n",
    "\n",
    "X_dev_bov = [sentence2vec.encode(sentence) for sentence in dev_raw]\n",
    "idf_dev = sentence2vec.build_idf(train_raw + dev_raw)\n",
    "X_dev_bov_idf = [sentence2vec.encode(sentence,idf_dev) for sentence in dev_raw]\n",
    "\n",
    "X_test_bov = [sentence2vec.encode(sentence) for sentence in dev_raw]\n",
    "idf_test = sentence2vec.build_idf(train_raw + dev_raw + test_raw)\n",
    "X_test_bov_idf = [sentence2vec.encode(sentence,idf_test) for sentence in test_raw]"
   ]
  },
  {
   "cell_type": "code",
   "execution_count": 79,
   "metadata": {},
   "outputs": [
    {
     "name": "stdout",
     "output_type": "stream",
     "text": [
      "Accuracy on train set with best parameter C=14.9520 without idf: 0.476241\n",
      "Accuracy on train set with best parameter C=0.6158 with idf: 0.415145\n",
      "\n",
      "\n",
      "Accuracy on dev set with best parameter C=14.9520 without idf: 0.419619\n",
      "Accuracy on dev set with best parameter C=0.6158 with idf: 0.367847\n"
     ]
    },
    {
     "data": {
      "image/png": "[encoded data removed]",
      "text/plain": [
       "<Figure size 1080x360 with 2 Axes>"
      ]
     },
     "metadata": {
      "needs_background": "light"
     },
     "output_type": "display_data"
    }
   ],
   "source": [
    "# 3 - Learn Logistic Regression on top of sentence embeddings using scikit-learn\n",
    "#     (consider tuning the L2 regularization on the dev set)\n",
    "#     In the paper, the accuracy for average of word vectors is 32.7%\n",
    "#     (VecAvg, table 1, https://nlp.stanford.edu/~socherr/EMNLP2013_RNTN.pdf)\n",
    "\n",
    "# TYPE CODE HERE\n",
    "from sklearn.linear_model import LogisticRegression\n",
    "import matplotlib.pyplot as plt\n",
    "\n",
    "#without idf \n",
    "#list of regularization parameter C\n",
    "Cs = np.linspace(0.01, 20, 100)\n",
    "accuracy_train = []\n",
    "accuracy_dev = []\n",
    "for C in Cs:\n",
    "    cl = LogisticRegression(penalty=\"l2\", C=C , solver='liblinear',multi_class='ovr')\n",
    "    cl.fit(X_train_bov, y_train)\n",
    "    accuracy_train.append(cl.score(X_train_bov, y_train))\n",
    "    accuracy_dev.append(cl.score(X_dev_bov, y_dev))\n",
    "\n",
    "#with idf\n",
    "accuracy_train_idf = []\n",
    "accuracy_dev_idf = []\n",
    "for C in Cs:\n",
    "    cl = LogisticRegression(penalty=\"l2\", C=C , solver='liblinear',multi_class='auto')\n",
    "    cl.fit(X_train_bov_idf, y_train)\n",
    "    accuracy_train_idf.append(cl.score(X_train_bov_idf, y_train))\n",
    "    accuracy_dev_idf.append(cl.score(X_dev_bov_idf, y_dev))    \n",
    "    \n",
    "plt.figure(figsize=(15,5))\n",
    "plt.subplot(1,2,1)\n",
    "plt.plot(Cs, accuracy_train, '.-', label='train set')\n",
    "plt.plot(Cs, accuracy_dev, '.-',label='dev set')\n",
    "plt.title('accuracy score with respect to the parameter of regularization without idf')\n",
    "plt.legend()\n",
    "plt.xlabel(\"L2 regularization parameter\")\n",
    "plt.ylabel(\"Accuracy\")\n",
    "\n",
    "plt.subplot(1,2,2)\n",
    "plt.plot(Cs, accuracy_train_idf, '.-', label='train set')\n",
    "plt.plot(Cs, accuracy_dev_idf, '.-',label='dev set')\n",
    "plt.title('accuracy score with respect to the parameter of regularization with idf')\n",
    "plt.legend()\n",
    "plt.xlabel(\"L2 regularization parameter\")\n",
    "plt.ylabel(\"Accuracy\")\n",
    "\n",
    "index = np.argmax(accuracy_dev)\n",
    "index_idf = np.argmax(accuracy_dev_idf)\n",
    "C_final = Cs[index]\n",
    "C_final_idf = Cs[index_idf]\n",
    "\n",
    "\n",
    "print('Accuracy on train set with best parameter C={:.4f} without idf: {:4f}'.format(C_final,accuracy_train[index]))\n",
    "print('Accuracy on train set with best parameter C={:.4f} with idf: {:4f}'.format(C_final_idf,accuracy_train_idf[index_idf]))\n",
    "print('\\n')\n",
    "print('Accuracy on dev set with best parameter C={:.4f} without idf: {:4f}'.format(C_final,accuracy_dev[index]))\n",
    "print('Accuracy on dev set with best parameter C={:.4f} with idf: {:4f}'.format(C_final_idf,accuracy_dev_idf[index_idf])) \n",
    "\n"
   ]
  },
  {
   "cell_type": "code",
   "execution_count": 63,
   "metadata": {},
   "outputs": [],
   "source": [
    "# 4 - Produce 2210 predictions for the test set (in the same order). One line = one prediction (=0,1,2,3,4).\n",
    "#     Attach the output file \"logreg_bow_y_test_sst.txt\" to your deliverable.\n",
    "#     You will be evaluated on the results of the test set.\n",
    "\n",
    "# TYPE CODE HERE\n",
    "# train the LogisticRegression oui the best C\n",
    "cl = LogisticRegression(penalty=\"l2\", C=C_final, solver=\"liblinear\", multi_class='auto')\n",
    "cl.fit(X_train_bov, y_train)\n",
    "\n",
    "y_pred = cl.predict(X_test_bov)\n",
    "np.savetxt('logreg_bow_y_test_sst.txt', y_pred, fmt='%d', delimiter='\\n')"
   ]
  },
  {
   "cell_type": "code",
   "execution_count": 78,
   "metadata": {},
   "outputs": [
    {
     "name": "stdout",
     "output_type": "stream",
     "text": [
      "Accuracy on train set with best parameter C=14.9520 without idf: 0.480571\n",
      "Accuracy on train set with best parameter C=0.6158 with idf: 0.406601\n",
      "\n",
      "\n",
      "Accuracy on dev set with best parameter C=16.0000 using svm without idf: 0.422343\n",
      "Accuracy on dev set with best parameter C=1.0000 using svm with idf: 0.356948\n"
     ]
    },
    {
     "data": {
      "image/png": "[encoded data removed]",
      "text/plain": [
       "<Figure size 1080x360 with 2 Axes>"
      ]
     },
     "metadata": {
      "needs_background": "light"
     },
     "output_type": "display_data"
    }
   ],
   "source": [
    "# BONUS!\n",
    "# 5 - Try to improve performance with another classifier\n",
    "#     Attach the output file \"XXX_bov_y_test_sst.txt\" to your deliverable (where XXX = the name of the classifier)\n",
    "\n",
    "# TYPE CODE HERE\n",
    "\n",
    "# We will try here an svm model and we will tune the regularization parameter\n",
    "from sklearn.svm import SVC\n",
    "accuracy_dev_svm = []\n",
    "accuracy_train_svm = []\n",
    "Cs_svm = [0.1,0.2,0.3,0.4,0.5,0.6,0.7,0.8,0.9,1,2,3,4,5,6,7,8,9,10,11,12,13,14,15,16,17,18,19,20]\n",
    "for C in Cs_svm :\n",
    "    svm = SVC(kernel='linear',C=C)\n",
    "    svm.fit(X_train_bov, y_train)\n",
    "    accuracy_train_svm.append(svm.score(X_train_bov,y_train))\n",
    "    accuracy_dev_svm.append(svm.score(X_dev_bov,y_dev))\n",
    "\n",
    "accuracy_dev_svm_idf = []\n",
    "accuracy_train_svm_idf = []\n",
    "Cs_svm = [0.1,0.2,0.3,0.4,0.5,0.6,0.7,0.8,0.9,1,2,3,4,5,6,7,8,9,10,11,12,13,14,15,16,17,18,19,20]\n",
    "for C in Cs_svm :\n",
    "    svm = SVC(kernel='linear',C=C)\n",
    "    svm.fit(X_train_bov_idf, y_train)\n",
    "    accuracy_train_svm_idf.append(svm.score(X_train_bov_idf,y_train))\n",
    "    accuracy_dev_svm_idf.append(svm.score(X_dev_bov_idf,y_dev))\n",
    "    \n",
    "index_svm = np.argmax(accuracy_dev_svm)\n",
    "index_svm_idf = np.argmax(accuracy_dev_svm_idf)\n",
    "\n",
    "C_final_svm = Cs_svm[index_svm]\n",
    "C_final_svm_idf= Cs_svm[index_svm_idf]\n",
    "\n",
    "plt.figure(figsize=(15,5))\n",
    "plt.subplot(1,2,1)\n",
    "plt.plot(Cs_svm, accuracy_train_svm, '.-', label='train set')\n",
    "plt.plot(Cs_svm, accuracy_dev_svm, '.-',label='dev set')\n",
    "plt.title('accuracy score with respect to C using svm without idf')\n",
    "plt.legend()\n",
    "plt.xlabel(\"L2 regularization parameter\")\n",
    "plt.ylabel(\"Accuracy\")\n",
    "\n",
    "plt.subplot(1,2,2)\n",
    "plt.plot(Cs_svm, accuracy_train_svm_idf, '.-', label='train set')\n",
    "plt.plot(Cs_svm, accuracy_dev_svm_idf, '.-',label='dev set')\n",
    "plt.title('accuracy score with respect to C using svm with idf')\n",
    "plt.legend()\n",
    "plt.xlabel(\"L2 regularization parameter\")\n",
    "plt.ylabel(\"Accuracy\")\n",
    "\n",
    "\n",
    "print('Accuracy on train set with best parameter C={:.4f} without idf: {:4f}'.format(C_final,accuracy_train_svm[index_svm]))\n",
    "print('Accuracy on train set with best parameter C={:.4f} with idf: {:4f}'.format(C_final_idf,accuracy_train_svm_idf[index_svm_idf]))\n",
    "print('\\n')\n",
    "print('Accuracy on dev set with best parameter C={:.4f} using svm without idf: {:4f}'.format(C_final_svm,accuracy_dev_svm[index_svm]))\n",
    "print('Accuracy on dev set with best parameter C={:.4f} using svm with idf: {:4f}'.format(C_final_svm_idf,accuracy_dev_svm_idf[index_svm_idf]))\n",
    "\n"
   ]
  },
  {
   "cell_type": "code",
   "execution_count": 72,
   "metadata": {},
   "outputs": [],
   "source": [
    "#the svm works a little better than the reglog\n",
    "svm = SVC(kernel='linear',C=C_final_svm)\n",
    "svm.fit(X_train_bov, y_train)\n",
    "y_pred = svm.predict(X_test_bov)\n",
    "np.savetxt('XXX_bow_y_test_sst.txt', y_pred, fmt='%d', delimiter='\\n')"
   ]
  },
  {
   "cell_type": "markdown",
   "metadata": {},
   "source": [
    "# 4) Sentence classification with LSTMs in Keras"
   ]
  },
  {
   "cell_type": "markdown",
   "metadata": {},
   "source": [
    "## 4.1 - Preprocessing"
   ]
  },
  {
   "cell_type": "code",
   "execution_count": 80,
   "metadata": {
    "jupyter": {
     "outputs_hidden": false
    }
   },
   "outputs": [],
   "source": [
    "import tensorflow as tf"
   ]
  },
  {
   "cell_type": "code",
   "execution_count": 175,
   "metadata": {},
   "outputs": [],
   "source": [
    "# 1 - Using the same dataset, transform text to integers using tf.keras.preprocessing.text.one_hot function\n",
    "#     https://keras.io/preprocessing/text/\n",
    "\n",
    "# TYPE CODE HERE\n",
    "from keras.preprocessing.text import Tokenizer\n",
    "tokenizer = Tokenizer(nb_words=50000,filters='!\"#$%&()*+,-./:;<=>?@[\\\\]^_`{|}~\\t\\n',\n",
    "                                   lower=True,split=' ')\n",
    "tokenizer.fit_on_texts(train_raw)\n",
    "\n",
    "X_train = tokenizer.texts_to_sequences(train_raw)\n",
    "X_dev = tokenizer.texts_to_sequences(dev_raw)\n",
    "X_test = tokenizer.texts_to_sequences(test_raw)"
   ]
  },
  {
   "cell_type": "markdown",
   "metadata": {},
   "source": [
    "**Padding input data**\n",
    "\n",
    "Models in Keras (and elsewhere) take batches of sentences of the same length as input. It is because Deep Learning framework have been designed to handle well Tensors, which are particularly suited for fast computation on the GPU.\n",
    "\n",
    "Since sentences have different sizes, we \"pad\" them. That is, we add dummy \"padding\" tokens so that they all have the same length.\n",
    "\n",
    "The input to a Keras model thus has this size : (batchsize, maxseqlen) where maxseqlen is the maximum length of a sentence in the batch."
   ]
  },
  {
   "cell_type": "code",
   "execution_count": 176,
   "metadata": {},
   "outputs": [],
   "source": [
    "# 2 - Pad your sequences using tf.keras.preprocessing.sequence.pad_sequences\n",
    "#     https://keras.io/preprocessing/sequence/\n",
    "\n",
    "# TYPE CODE HERE\n",
    "from keras.preprocessing.sequence import pad_sequences\n",
    "X_train = pad_sequences(X_train)\n",
    "X_dev = pad_sequences(X_dev,maxlen=X_train.shape[1])\n",
    "X_test = pad_sequences(X_test,maxlen=X_train.shape[1])"
   ]
  },
  {
   "cell_type": "markdown",
   "metadata": {},
   "source": [
    "## 4.2 - Design and train your model"
   ]
  },
  {
   "cell_type": "code",
   "execution_count": 177,
   "metadata": {},
   "outputs": [],
   "source": [
    "from tensorflow.core.protobuf import rewriter_config_pb2\n",
    "from tensorflow.keras.backend import set_session\n",
    "tf.keras.backend.clear_session()  # For easy reset of notebook state.\n",
    "\n",
    "config_proto = tf.ConfigProto()\n",
    "off = rewriter_config_pb2.RewriterConfig.OFF\n",
    "config_proto.graph_options.rewrite_options.arithmetic_optimization = off\n",
    "session = tf.Session(config=config_proto)\n",
    "set_session(session)"
   ]
  },
  {
   "cell_type": "code",
   "execution_count": 178,
   "metadata": {},
   "outputs": [],
   "source": [
    "# 3 - Design your encoder + classifier using tensorflow.keras.layers\n",
    "#     In Keras, Torch and other deep learning framework, we create a \"container\" which is the Sequential() module.\n",
    "#     Then we add components to this container : the lookup-table, the LSTM, the classifier etc.\n",
    "#     All of these components are contained in the Sequential() and are trained together.\n",
    "#     Note that the embedding layer is initialized randomly and does not take advantage of pre-trained word embeddings.\n",
    "\n",
    "\n",
    "# ADAPT CODE BELOW\n",
    "from tensorflow.keras import regularizers\n",
    "from tensorflow.keras import optimizers\n",
    "from tensorflow.keras.models import Sequential, load_model\n",
    "from tensorflow.keras.layers import Embedding, LSTM, Dense, Activation, Dropout,Bidirectional\n",
    "\n",
    "embed_dim  = 300  # word embedding dimension\n",
    "nhid       = 32  # number of hidden units in the LSTM\n",
    "vocab_size = 50000  # size of the vocabulary\n",
    "n_classes  = 5\n",
    "model = Sequential()\n",
    "model.add(Embedding(vocab_size, embed_dim))\n",
    "model.add(Dropout(0.2))\n",
    "model.add(LSTM(nhid, dropout=0.2, recurrent_dropout=0.2))\n",
    "model.add(Dense(n_classes, activation='sigmoid'))"
   ]
  },
  {
   "cell_type": "code",
   "execution_count": 179,
   "metadata": {
    "jupyter": {
     "outputs_hidden": false
    }
   },
   "outputs": [
    {
     "name": "stdout",
     "output_type": "stream",
     "text": [
      "_________________________________________________________________\n",
      "Layer (type)                 Output Shape              Param #   \n",
      "=================================================================\n",
      "embedding (Embedding)        (None, None, 300)         15000000  \n",
      "_________________________________________________________________\n",
      "dropout (Dropout)            (None, None, 300)         0         \n",
      "_________________________________________________________________\n",
      "lstm (LSTM)                  (None, 32)                42624     \n",
      "_________________________________________________________________\n",
      "dense (Dense)                (None, 5)                 165       \n",
      "=================================================================\n",
      "Total params: 15,042,789\n",
      "Trainable params: 15,042,789\n",
      "Non-trainable params: 0\n",
      "_________________________________________________________________\n",
      "None\n"
     ]
    }
   ],
   "source": [
    "# 4 - Define your loss/optimizer/metrics\n",
    "\n",
    "# MODIFY CODE BELOW\n",
    "\n",
    "loss_classif     =  'categorical_crossentropy' # find the right loss for multi-class classification\n",
    "optimizer        =  'adam' # find the right optimizer\n",
    "metrics_classif  =  ['accuracy']\n",
    "\n",
    "# Observe how easy (but blackboxed) this is in Keras\n",
    "model.compile(loss=loss_classif,\n",
    "              optimizer=optimizer,\n",
    "              metrics=metrics_classif)\n",
    "print(model.summary())"
   ]
  },
  {
   "cell_type": "code",
   "execution_count": 180,
   "metadata": {},
   "outputs": [
    {
     "name": "stdout",
     "output_type": "stream",
     "text": [
      "WARNING:tensorflow:The `nb_epoch` argument in `fit` has been renamed `epochs`.\n",
      "Train on 8544 samples, validate on 1101 samples\n",
      "Epoch 1/10\n",
      "8512/8544 [============================>.] - ETA: 0s - loss: 1.5610 - acc: 0.2993\n",
      "Epoch 00001: val_acc improved from -inf to 0.33333, saving model to data/model/lstm.hdf5\n",
      "8544/8544 [==============================] - 45s 5ms/sample - loss: 1.5611 - acc: 0.2996 - val_loss: 1.5065 - val_acc: 0.3333\n",
      "Epoch 2/10\n",
      "8512/8544 [============================>.] - ETA: 0s - loss: 1.3062 - acc: 0.4489\n",
      "Epoch 00002: val_acc improved from 0.33333 to 0.41689, saving model to data/model/lstm.hdf5\n",
      "8544/8544 [==============================] - 43s 5ms/sample - loss: 1.3058 - acc: 0.4489 - val_loss: 1.3717 - val_acc: 0.4169\n",
      "Epoch 3/10\n",
      "8512/8544 [============================>.] - ETA: 0s - loss: 0.9359 - acc: 0.6293\n",
      "Epoch 00003: val_acc did not improve from 0.41689\n",
      "8544/8544 [==============================] - 43s 5ms/sample - loss: 0.9367 - acc: 0.6287 - val_loss: 1.5329 - val_acc: 0.3878\n",
      "Epoch 4/10\n",
      "8512/8544 [============================>.] - ETA: 0s - loss: 0.6333 - acc: 0.7681\n",
      "Epoch 00004: val_acc did not improve from 0.41689\n",
      "8544/8544 [==============================] - 44s 5ms/sample - loss: 0.6331 - acc: 0.7679 - val_loss: 1.7942 - val_acc: 0.3815\n",
      "Epoch 5/10\n",
      "8512/8544 [============================>.] - ETA: 0s - loss: 0.4373 - acc: 0.8473\n",
      "Epoch 00005: val_acc did not improve from 0.41689\n",
      "8544/8544 [==============================] - 43s 5ms/sample - loss: 0.4376 - acc: 0.8471 - val_loss: 2.0677 - val_acc: 0.3715\n",
      "Epoch 6/10\n",
      "8512/8544 [============================>.] - ETA: 0s - loss: 0.3065 - acc: 0.8970\n",
      "Epoch 00006: val_acc did not improve from 0.41689\n",
      "8544/8544 [==============================] - 43s 5ms/sample - loss: 0.3063 - acc: 0.8969 - val_loss: 2.2267 - val_acc: 0.3615\n",
      "Epoch 7/10\n",
      "8512/8544 [============================>.] - ETA: 0s - loss: 0.2269 - acc: 0.9294\n",
      "Epoch 00007: val_acc did not improve from 0.41689\n",
      "8544/8544 [==============================] - 44s 5ms/sample - loss: 0.2268 - acc: 0.9294 - val_loss: 2.4580 - val_acc: 0.3715\n",
      "Epoch 8/10\n",
      "8512/8544 [============================>.] - ETA: 0s - loss: 0.1705 - acc: 0.9476\n",
      "Epoch 00008: val_acc did not improve from 0.41689\n",
      "8544/8544 [==============================] - 44s 5ms/sample - loss: 0.1706 - acc: 0.9476 - val_loss: 2.5975 - val_acc: 0.3524\n",
      "Epoch 9/10\n",
      "8512/8544 [============================>.] - ETA: 0s - loss: 0.1337 - acc: 0.9601\n",
      "Epoch 00009: val_acc did not improve from 0.41689\n",
      "8544/8544 [==============================] - 43s 5ms/sample - loss: 0.1338 - acc: 0.9600 - val_loss: 2.7650 - val_acc: 0.3524\n",
      "Epoch 10/10\n",
      "8512/8544 [============================>.] - ETA: 0s - loss: 0.0999 - acc: 0.9711\n",
      "Epoch 00010: val_acc did not improve from 0.41689\n",
      "8544/8544 [==============================] - 45s 5ms/sample - loss: 0.0997 - acc: 0.9712 - val_loss: 3.0166 - val_acc: 0.3524\n"
     ]
    },
    {
     "data": {
      "image/png": "[encoded data removed]",
      "text/plain": [
       "<Figure size 1080x360 with 2 Axes>"
      ]
     },
     "metadata": {
      "needs_background": "light"
     },
     "output_type": "display_data"
    }
   ],
   "source": [
    "# 5 - Train your model and find the best hyperparameters for your dev set\n",
    "#     you will be evaluated on the quality of your predictions on the test set\n",
    "#     Keras expects y_train and y_dev to be one-hot encodings of the labels, i.e. with shape=(n_samples, 5)\n",
    "\n",
    "\n",
    "# ADAPT CODE BELOW\n",
    "from keras.utils import to_categorical\n",
    "from tensorflow.keras.callbacks import ModelCheckpoint\n",
    "y_train_code = to_categorical(y_train)\n",
    "y_dev_code = to_categorical(y_dev)\n",
    "\n",
    "checkpointer = ModelCheckpoint(filepath='data/model/lstm.hdf5', verbose=1,\n",
    "                                               save_best_only=True, monitor='val_acc')\n",
    "bs = 32\n",
    "\n",
    "n_epochs = 10\n",
    "\n",
    "history = model.fit(X_train, y_train_code, batch_size=bs, nb_epoch=n_epochs, validation_data=(X_dev, y_dev_code),callbacks=[checkpointer])\n",
    "\n",
    "# plot history for accuracy\n",
    "plt.figure(figsize=(15,5))\n",
    "plt.subplot(1,2,1)\n",
    "plt.plot(history.history['acc'])\n",
    "plt.plot(history.history['val_acc'])\n",
    "plt.title('model accuracy')\n",
    "plt.ylabel('accuracy')\n",
    "plt.xlabel('epoch')\n",
    "plt.legend(['train', 'test'])\n",
    "# plot history for loss\n",
    "plt.subplot(1,2,2)\n",
    "plt.plot(history.history['loss'])\n",
    "plt.plot(history.history['val_loss'])\n",
    "plt.title('model loss')\n",
    "plt.ylabel('loss')\n",
    "plt.xlabel('epoch')\n",
    "plt.legend(['train', 'test'], loc='upper left')\n",
    "plt.show()"
   ]
  },
  {
   "cell_type": "code",
   "execution_count": 183,
   "metadata": {},
   "outputs": [],
   "source": [
    "# 6 - Generate your predictions on the test set using model.predict(x_test)\n",
    "#     https://keras.io/models/model/\n",
    "#     Log your predictions in a file (one line = one integer: 0,1,2,3,4)\n",
    "#     Attach the output file \"logreg_lstm_y_test_sst.txt\" to your deliverable.\n",
    "\n",
    "# TYPE CODE HERE\n",
    "model = load_model('data/model/lstm.hdf5')\n",
    "y_pred = np.argmax(model.predict(X_test), axis = 1)\n",
    "np.savetxt('logreg_lstm_y_test_sst.txt', y_pred, fmt='%d', delimiter='\\n') #!!remember to delete last newline!!"
   ]
  },
  {
   "cell_type": "markdown",
   "metadata": {},
   "source": [
    "## 4.3 - innovate !"
   ]
  },
  {
   "cell_type": "code",
   "execution_count": 222,
   "metadata": {},
   "outputs": [
    {
     "name": "stdout",
     "output_type": "stream",
     "text": [
      "Loaded 100000 pretrained word vectors\n"
     ]
    }
   ],
   "source": [
    "word2vec = Word2Vec(en_embeddings_path, vocab_size=100000)\n",
    "embedding_dim = 300\n",
    "embeddings_dict = {}\n",
    "embeddings_matrix = []\n",
    "dataset = train_raw + dev_raw + test_raw\n",
    "for sentence in dataset:\n",
    "    for word in sentence.split():\n",
    "        if word not in embeddings_dict.keys():\n",
    "            if word in word2vec.words:\n",
    "                embeddings_dict[word]= word2vec.encode(word)\n",
    "                embeddings_matrix.append(word2vec.encode(word))\n",
    "            else :\n",
    "                embeddings_dict[word] = np.random.rand(embedding_dim)\n",
    "                embeddings_matrix.append(embeddings_dict[word])\n",
    "embeddings_matrix = np.array(embeddings_matrix)"
   ]
  },
  {
   "cell_type": "code",
   "execution_count": 236,
   "metadata": {},
   "outputs": [
    {
     "name": "stdout",
     "output_type": "stream",
     "text": [
      "_________________________________________________________________\n",
      "Layer (type)                 Output Shape              Param #   \n",
      "=================================================================\n",
      "embedding_34 (Embedding)     (None, 48, 300)           4178100   \n",
      "_________________________________________________________________\n",
      "conv1d_42 (Conv1D)           (None, 44, 250)           375250    \n",
      "_________________________________________________________________\n",
      "conv1d_43 (Conv1D)           (None, 42, 64)            48064     \n",
      "_________________________________________________________________\n",
      "max_pooling1d_27 (MaxPooling (None, 14, 64)            0         \n",
      "_________________________________________________________________\n",
      "flatten_9 (Flatten)          (None, 896)               0         \n",
      "_________________________________________________________________\n",
      "dense_40 (Dense)             (None, 5)                 4485      \n",
      "=================================================================\n",
      "Total params: 4,605,899\n",
      "Trainable params: 4,605,899\n",
      "Non-trainable params: 0\n",
      "_________________________________________________________________\n",
      "None\n"
     ]
    },
    {
     "name": "stderr",
     "output_type": "stream",
     "text": [
      "C:\\Users\\abdel\\Anaconda3\\lib\\site-packages\\ipykernel_launcher.py:43: UserWarning: The `nb_epoch` argument in `fit` has been renamed `epochs`.\n"
     ]
    },
    {
     "name": "stdout",
     "output_type": "stream",
     "text": [
      "Train on 8544 samples, validate on 1101 samples\n",
      "Epoch 1/10\n",
      "8544/8544 [==============================] - 34s 4ms/step - loss: 1.5585 - acc: 0.2877 - val_loss: 1.4869 - val_acc: 0.3497\n",
      "\n",
      "Epoch 00001: val_acc improved from -inf to 0.34968, saving model to data/model/lstm_trained.hdf5\n",
      "Epoch 2/10\n",
      "8544/8544 [==============================] - 31s 4ms/step - loss: 1.2956 - acc: 0.4267 - val_loss: 1.4038 - val_acc: 0.3996\n",
      "\n",
      "Epoch 00002: val_acc improved from 0.34968 to 0.39964, saving model to data/model/lstm_trained.hdf5\n",
      "Epoch 3/10\n",
      "8544/8544 [==============================] - 33s 4ms/step - loss: 0.8147 - acc: 0.6689 - val_loss: 1.7214 - val_acc: 0.3769\n",
      "\n",
      "Epoch 00003: val_acc did not improve from 0.39964\n",
      "Epoch 4/10\n",
      "8544/8544 [==============================] - 32s 4ms/step - loss: 0.3156 - acc: 0.8832 - val_loss: 2.3721 - val_acc: 0.3370\n",
      "\n",
      "Epoch 00004: val_acc did not improve from 0.39964\n",
      "Epoch 5/10\n",
      "8544/8544 [==============================] - 33s 4ms/step - loss: 0.1260 - acc: 0.9567 - val_loss: 3.3901 - val_acc: 0.3497\n",
      "\n",
      "Epoch 00005: val_acc did not improve from 0.39964\n",
      "Epoch 6/10\n",
      "8544/8544 [==============================] - 33s 4ms/step - loss: nan - acc: 0.9256 - val_loss: nan - val_acc: 0.1262\n",
      "\n",
      "Epoch 00006: val_acc did not improve from 0.39964\n",
      "Epoch 7/10\n",
      "8544/8544 [==============================] - 34s 4ms/step - loss: nan - acc: 0.1278 - val_loss: nan - val_acc: 0.1262\n",
      "\n",
      "Epoch 00007: val_acc did not improve from 0.39964\n",
      "Epoch 8/10\n",
      "8544/8544 [==============================] - 33s 4ms/step - loss: nan - acc: 0.1278 - val_loss: nan - val_acc: 0.1262\n",
      "\n",
      "Epoch 00008: val_acc did not improve from 0.39964\n",
      "Epoch 9/10\n",
      "8544/8544 [==============================] - 33s 4ms/step - loss: nan - acc: 0.1278 - val_loss: nan - val_acc: 0.1262\n",
      "\n",
      "Epoch 00009: val_acc did not improve from 0.39964\n",
      "Epoch 10/10\n",
      "8544/8544 [==============================] - 33s 4ms/step - loss: nan - acc: 0.1278 - val_loss: nan - val_acc: 0.1262\n",
      "\n",
      "Epoch 00010: val_acc did not improve from 0.39964\n"
     ]
    }
   ],
   "source": [
    "embed_dim  = 300  # word embedding dimension\n",
    "nhid       = 100  # number of hidden units in the LSTM\n",
    "vocab_size = embeddings_matrix.shape[0]  # size of the vocabulary\n",
    "n_classes  = 5\n",
    "kernel_size = 3\n",
    "filters = 32\n",
    "pool_size = 3\n",
    "\n",
    "model = Sequential()\n",
    "model.add(Embedding(vocab_size, embed_dim,input_length=X_train.shape[1], trainable = True, weights = [embeddings_matrix]))\n",
    "model.add(Conv1D(250,5,padding='valid',activation='relu',strides=1))\n",
    "#model.add(MaxPooling1D(pool_size=pool_size))\n",
    "\n",
    "model.add(Conv1D(64,3,padding='valid',activation='relu',strides=1))\n",
    "\n",
    "model.add(MaxPooling1D(pool_size=3))\n",
    "#model.add(GlobalMaxPooling1D())\n",
    "\n",
    "model.add(Flatten())\n",
    "model.add(Dense(n_classes, activation='sigmoid'))\n",
    "\n",
    "loss_classif     =  'categorical_crossentropy' # find the right loss for multi-class classification\n",
    "optimizer        =  'adam' # find the right optimizer\n",
    "metrics_classif  =  ['accuracy']\n",
    "\n",
    "# Observe how easy (but blackboxed) this is in Keras\n",
    "model.compile(loss=loss_classif,\n",
    "              optimizer=optimizer,\n",
    "              metrics=metrics_classif)\n",
    "print(model.summary())\n",
    "\n",
    "from keras.utils import to_categorical\n",
    "from tensorflow.keras.callbacks import ModelCheckpoint\n",
    "y_train_code = to_categorical(y_train)\n",
    "y_dev_code = to_categorical(y_dev)\n",
    "\n",
    "checkpointer = ModelCheckpoint(filepath='data/model/cnn.hdf5', verbose=1,\n",
    "                                               save_best_only=True, monitor='val_acc')\n",
    "bs = 32\n",
    "\n",
    "n_epochs = 10\n",
    "\n",
    "history = model.fit(X_train, y_train_code, batch_size=bs, nb_epoch=n_epochs, validation_data=(X_dev, y_dev_code),callbacks=[checkpointer])"
   ]
  },
  {
   "cell_type": "code",
   "execution_count": 240,
   "metadata": {},
   "outputs": [],
   "source": [
    "model = load_model('data/model/cnn.hdf5')\n",
    "y_pred = np.argmax(model.predict(X_test), axis = 1)\n",
    "np.savetxt('XXX_XXX_y_test_sst.txt', y_pred, fmt='%d', delimiter='\\n') #!!remember to delete last newline!!"
   ]
  }
 ],
 "metadata": {
  "kernelspec": {
   "display_name": "Python 3",
   "language": "python",
   "name": "python3"
  },
  "language_info": {
   "codemirror_mode": {
    "name": "ipython",
    "version": 3
   },
   "file_extension": ".py",
   "mimetype": "text/x-python",
   "name": "python",
   "nbconvert_exporter": "python",
   "pygments_lexer": "ipython3",
   "version": "3.7.1"
  }
 },
 "nbformat": 4,
 "nbformat_minor": 4
}
