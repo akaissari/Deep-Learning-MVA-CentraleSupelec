{
 "cells": [
  {
   "cell_type": "markdown",
   "metadata": {
    "colab_type": "text",
    "id": "1WKfyB0k-Od0"
   },
   "source": [
    "**You may need to install [OpenCV](https://pypi.python.org/pypi/opencv-python) and [scikit-video](http://www.scikit-video.org/stable/).**"
   ]
  },
  {
   "cell_type": "code",
   "execution_count": 216,
   "metadata": {
    "colab": {
     "base_uri": "https://localhost:8080/",
     "height": 118
    },
    "colab_type": "code",
    "id": "wcOalPZQ-Od7",
    "outputId": "b7c36c3e-d7fe-42fc-b384-ecc013701800"
   },
   "outputs": [
    {
     "name": "stdout",
     "output_type": "stream",
     "text": [
      "Requirement already satisfied: opencv-python in /usr/local/lib/python3.6/dist-packages (4.1.2.30)\n",
      "Requirement already satisfied: numpy>=1.11.3 in /usr/local/lib/python3.6/dist-packages (from opencv-python) (1.17.5)\n",
      "Requirement already satisfied: scikit-video in /usr/local/lib/python3.6/dist-packages (1.1.11)\n",
      "Requirement already satisfied: pillow in /usr/local/lib/python3.6/dist-packages (from scikit-video) (6.2.2)\n",
      "Requirement already satisfied: scipy in /usr/local/lib/python3.6/dist-packages (from scikit-video) (1.4.1)\n",
      "Requirement already satisfied: numpy in /usr/local/lib/python3.6/dist-packages (from scikit-video) (1.17.5)\n"
     ]
    }
   ],
   "source": [
    "!pip install opencv-python\n",
    "!pip install scikit-video\n",
    "import keras\n",
    "import numpy as np\n",
    "import io\n",
    "import base64\n",
    "from IPython.display import HTML\n",
    "import skvideo.io\n",
    "import cv2\n",
    "import json\n",
    "\n",
    "from keras.models import Sequential,model_from_json, load_model\n",
    "from keras.layers.core import Dense, Flatten, Dropout\n",
    "from keras.optimizers import sgd\n",
    "from keras.layers import Conv2D, MaxPooling2D, Activation, AveragePooling2D,Reshape,BatchNormalization"
   ]
  },
  {
   "cell_type": "markdown",
   "metadata": {
    "colab_type": "text",
    "id": "X7mYFL3v-OeS"
   },
   "source": [
    "# MiniProject on Deep Reinforcement Learning"
   ]
  },
  {
   "cell_type": "markdown",
   "metadata": {
    "colab_type": "text",
    "id": "5A3YGH3E-OeV"
   },
   "source": [
    "__Notations__: $E_p$ is the expectation under probability $p$. Please justify each of your answer and widely comment your code."
   ]
  },
  {
   "cell_type": "markdown",
   "metadata": {
    "colab_type": "text",
    "id": "RMVabXNv-OeZ"
   },
   "source": [
    "# Context"
   ]
  },
  {
   "cell_type": "markdown",
   "metadata": {
    "colab_type": "text",
    "id": "SZKX4GMh-Oef"
   },
   "source": [
    "In a reinforcement learning algorithm, we modelize each step $t$ as an action $a_t$ obtained from a state $s_t$, i.e. $\\{(a_{t},s_{t})_{t\\leq T}\\}$ having the Markov property. We consider a discount factor $\\gamma \\in [0,1]$ that ensures convergence. The goal is to find among all the policies $\\pi$, one that maximizes the expected reward:\n",
    "\n",
    "\\begin{equation*}\n",
    "R(\\pi)=\\sum_{t\\leq T}E_{p^{\\pi}}[\\gamma^t r(s_{t},a_{t})] \\> ,\n",
    "\\end{equation*}\n",
    "\n",
    "where: \n",
    "\\begin{equation*}p^{\\pi}(a_{0},a_{1},s_{1},...,a_{T},s_{T})=p(a_{0})\\prod_{t=1}^{T}\\pi(a_{t}|s_{t})p(s_{t+1}|s_{t},a_{t}) \\> .\n",
    "\\end{equation*}\n",
    "\n",
    "We note the $Q$-function:\n",
    "\n",
    "\\begin{equation*}Q^\\pi(s,a)=E_{p^{\\pi}}[\\sum_{t\\leq T}\\gamma^{t}r(s_{t},a_{t})|s_{0}=s,a_{0}=a] \\> .\n",
    "\\end{equation*}\n",
    "\n",
    "Thus, the optimal Q function is:\n",
    "\\begin{equation*}\n",
    "Q^*(s,a)=\\max_{\\pi}Q^\\pi(s,a) \\> .\n",
    "\\end{equation*}\n",
    "\n",
    "In this project, we will apply the deep reinforcement learning techniques to a simple game: an agent will have to learn from scratch a policy that will permit it maximizing a reward."
   ]
  },
  {
   "cell_type": "markdown",
   "metadata": {
    "colab_type": "text",
    "id": "UCAQ68JV-Oei"
   },
   "source": [
    "## The environment, the agent and the game"
   ]
  },
  {
   "cell_type": "markdown",
   "metadata": {
    "colab_type": "text",
    "id": "R1Z41_3T-Oel"
   },
   "source": [
    "### The environment"
   ]
  },
  {
   "cell_type": "markdown",
   "metadata": {
    "colab_type": "text",
    "id": "IA7hpn6f-Oep"
   },
   "source": [
    "```Environment``` is an abstract class that represents the states, rewards, and actions to obtain the new state."
   ]
  },
  {
   "cell_type": "code",
   "execution_count": 0,
   "metadata": {
    "colab": {},
    "colab_type": "code",
    "id": "N7f9nRbq-Oet"
   },
   "outputs": [],
   "source": [
    "class Environment(object):\n",
    "    def __init__(self):\n",
    "        pass\n",
    "\n",
    "    def act(self, act):\n",
    "        \"\"\"\n",
    "        One can act on the environment and obtain its reaction:\n",
    "        - the new state\n",
    "        - the reward of the new state\n",
    "        - should we continue the game?\n",
    "\n",
    "        :return: state, reward, game_over\n",
    "        \"\"\"\n",
    "        pass\n",
    "\n",
    "\n",
    "    def reset(self):\n",
    "        \"\"\"\n",
    "        Reinitialize the environment to a random state and returns\n",
    "        the original state\n",
    "\n",
    "        :return: state\n",
    "        \"\"\"\n",
    "        pass\n",
    "    \n",
    "    def draw(self):\n",
    "        \"\"\"\n",
    "        Visualize in the console or graphically the current state\n",
    "        \"\"\"\n",
    "        pass"
   ]
  },
  {
   "cell_type": "markdown",
   "metadata": {
    "colab_type": "text",
    "id": "lxPikODY-Oe6"
   },
   "source": [
    "The method ```act``` allows to act on the environment at a given state $s_t$ (stored internally), via action $a_t$. The method will return the new state $s_{t+1}$, the reward $r(s_{t},a_{t})$ and determines if $t\\leq T$ (*game_over*).\n",
    "\n",
    "The method ```reset``` simply reinitializes the environment to a random state $s_0$.\n",
    "\n",
    "The method ```draw``` displays the current state $s_t$ (this is useful to check the behavior of the Agent).\n",
    "\n",
    "We modelize $s_t$ as a tensor, while $a_t$ is an integer."
   ]
  },
  {
   "cell_type": "markdown",
   "metadata": {
    "colab_type": "text",
    "id": "WF9j-f-H-Oe_"
   },
   "source": [
    "### The Agent"
   ]
  },
  {
   "cell_type": "markdown",
   "metadata": {
    "colab_type": "text",
    "id": "3BNbL3IC-OfC"
   },
   "source": [
    "The goal of the ```Agent``` is to interact with the ```Environment``` by proposing actions $a_t$ obtained from a given state $s_t$ to attempt to maximize its __reward__ $r(s_t,a_t)$. We propose the following abstract class:"
   ]
  },
  {
   "cell_type": "code",
   "execution_count": 0,
   "metadata": {
    "colab": {},
    "colab_type": "code",
    "id": "yMBDxLmK-OfF"
   },
   "outputs": [],
   "source": [
    "class Agent(object):\n",
    "    def __init__(self, epsilon=0.1, n_action=4):\n",
    "        self.epsilon = epsilon\n",
    "        self.n_action = n_action\n",
    "    \n",
    "    def set_epsilon(self,e):\n",
    "        self.epsilon = e\n",
    "\n",
    "    def act(self,s,train=True):\n",
    "        \"\"\" This function should return the next action to do:\n",
    "        an integer between 0 and 4 (not included) with a random exploration of epsilon\"\"\"\n",
    "        if train:\n",
    "            if np.random.rand() <= self.epsilon:\n",
    "                a = np.random.randint(0, self.n_action, size=1)[0]\n",
    "            else:\n",
    "                a = self.learned_act(s)\n",
    "        else: # in some cases, this can improve the performance.. remove it if poor performances\n",
    "            a = self.learned_act(s)\n",
    "\n",
    "        return a\n",
    "\n",
    "    def learned_act(self,s):\n",
    "        \"\"\" Act via the policy of the agent, from a given state s\n",
    "        it proposes an action a\"\"\"\n",
    "        pass\n",
    "\n",
    "    def reinforce(self, s, n_s, a, r, game_over_):\n",
    "        \"\"\" This function is the core of the learning algorithm. \n",
    "        It takes as an input the current state s_, the next state n_s_\n",
    "        the action a_ used to move from s_ to n_s_ and the reward r_.\n",
    "        \n",
    "        Its goal is to learn a policy.\n",
    "        \"\"\"\n",
    "        pass\n",
    "\n",
    "    def save(self):\n",
    "        \"\"\" This function returns basic stats if applicable: the\n",
    "        loss and/or the model\"\"\"\n",
    "        pass\n",
    "\n",
    "    def load(self):\n",
    "        \"\"\" This function allows to restore a model\"\"\"\n",
    "        pass"
   ]
  },
  {
   "cell_type": "markdown",
   "metadata": {
    "colab_type": "text",
    "id": "JWwK6WSH-OfN"
   },
   "source": [
    "***\n",
    "__Question 1__:\n",
    "Explain the function act. Why is ```epsilon``` essential?"
   ]
  },
  {
   "cell_type": "markdown",
   "metadata": {
    "colab_type": "text",
    "id": "MRxeiLXh-OfQ"
   },
   "source": [
    "The function act allows the actor to choose a random action with probability $\\epsilon$ and choose an action via its policy with probability $1-\\epsilon$. Thus, $\\epsilon$ is essential, it defines the **proportion** of the exploration of the actor and $1-\\epsilon$ defines the **proportion** of the expoloitation of the actor. This strategy improves policies by guaranteeing exploration in the environment to discover new state-action pairs that can never be visited using a deterministic policy. It is then essential to find an optimal compromis between exploitation and exploration by finding an optimal value of epsilon. The value of $\\epsilon$ can be modified during training such that encourage exploration over exploitation in the begining of the learning and decrease the exploration gradually. \n",
    "\n"
   ]
  },
  {
   "cell_type": "markdown",
   "metadata": {
    "colab_type": "text",
    "id": "TFimhCLY-OfU"
   },
   "source": [
    "***\n",
    "### The Game"
   ]
  },
  {
   "cell_type": "markdown",
   "metadata": {
    "colab_type": "text",
    "id": "cVsPbT9b-OfX"
   },
   "source": [
    "The ```Agent``` and the ```Environment``` work in an interlaced way as in the following (take some time to understand this code as it is the core of the project)\n",
    "\n",
    "```python\n",
    "\n",
    "epoch = 300\n",
    "env = Environment()\n",
    "agent = Agent()\n",
    "\n",
    "\n",
    "# Number of won games\n",
    "score = 0\n",
    "loss = 0\n",
    "\n",
    "\n",
    "for e in range(epoch):\n",
    "    # At each epoch, we restart to a fresh game and get the initial state\n",
    "    state = env.reset()\n",
    "    # This assumes that the games will end\n",
    "    game_over = False\n",
    "\n",
    "    win = 0\n",
    "    lose = 0\n",
    "    \n",
    "    while not game_over:\n",
    "        # The agent performs an action\n",
    "        action = agent.act(state)\n",
    "\n",
    "        # Apply an action to the environment, get the next state, the reward\n",
    "        # and if the games end\n",
    "        prev_state = state\n",
    "        state, reward, game_over = env.act(action)\n",
    "\n",
    "        # Update the counters\n",
    "        if reward > 0:\n",
    "            win = win + reward\n",
    "        if reward < 0:\n",
    "            lose = lose -reward\n",
    "\n",
    "        # Apply the reinforcement strategy\n",
    "        loss = agent.reinforce(prev_state, state,  action, reward, game_over)\n",
    "\n",
    "    # Save as a mp4\n",
    "    if e % 10 == 0:\n",
    "        env.draw(e)\n",
    "\n",
    "    # Update stats\n",
    "    score += win-lose\n",
    "\n",
    "    print(\"Epoch {:03d}/{:03d} | Loss {:.4f} | Win/lose count {}/{} ({})\"\n",
    "          .format(e, epoch, loss, win, lose, win-lose))\n",
    "    agent.save()\n",
    "```"
   ]
  },
  {
   "cell_type": "markdown",
   "metadata": {
    "colab_type": "text",
    "id": "y8TJm3G7-Ofb"
   },
   "source": [
    "# The game, *eat cheese*"
   ]
  },
  {
   "cell_type": "markdown",
   "metadata": {
    "colab_type": "text",
    "id": "tmf6rYw4-Ofd"
   },
   "source": [
    "A rat runs on an island and tries to eat as much as possible. The island is subdivided into $N\\times N$ cells, in which there are cheese (+0.5) and poisonous cells (-1). The rat has a visibility of 2 cells (thus it can see $5^2$ cells). The rat is given a time $T$ to accumulate as much food as possible. It can perform 4 actions: going up, down, left, right. \n",
    "\n",
    "The goal is to code an agent to solve this task that will learn by trial and error. We propose the following environment:"
   ]
  },
  {
   "cell_type": "code",
   "execution_count": 0,
   "metadata": {
    "colab": {},
    "colab_type": "code",
    "id": "te6j5JXF-Ofg"
   },
   "outputs": [],
   "source": [
    "class Environment(object):\n",
    "    def __init__(self, grid_size=10, max_time=500, temperature=0.1):\n",
    "        grid_size = grid_size+4\n",
    "        self.grid_size = grid_size\n",
    "        self.max_time = max_time\n",
    "        self.temperature = temperature\n",
    "\n",
    "        #board on which one plays\n",
    "        self.board = np.zeros((grid_size,grid_size))\n",
    "        self.position = np.zeros((grid_size,grid_size))\n",
    "\n",
    "        # coordinate of the cat\n",
    "        self.x = 0\n",
    "        self.y = 1\n",
    "\n",
    "        # self time\n",
    "        self.t = 0\n",
    "\n",
    "        self.scale=16\n",
    "\n",
    "        self.to_draw = np.zeros((max_time+2, grid_size*self.scale, grid_size*self.scale, 3))\n",
    "\n",
    "\n",
    "    def draw(self,e):\n",
    "        skvideo.io.vwrite(str(e) + '.mp4', self.to_draw)\n",
    "\n",
    "    def get_frame(self,t):\n",
    "        b = np.zeros((self.grid_size,self.grid_size,3))+128\n",
    "        b[self.board>0,0] = 256\n",
    "        b[self.board < 0, 2] = 256\n",
    "        b[self.x,self.y,:]=256\n",
    "        b[-2:,:,:]=0\n",
    "        b[:,-2:,:]=0\n",
    "        b[:2,:,:]=0\n",
    "        b[:,:2,:]=0\n",
    "        \n",
    "        b =  cv2.resize(b, None, fx=self.scale, fy=self.scale, interpolation=cv2.INTER_NEAREST)\n",
    "\n",
    "        self.to_draw[t,:,:,:]=b\n",
    "\n",
    "\n",
    "    def act(self, action):\n",
    "        \"\"\"This function returns the new state, reward and decides if the\n",
    "        game ends.\"\"\"\n",
    "\n",
    "        self.get_frame(int(self.t))\n",
    "\n",
    "        self.position = np.zeros((self.grid_size, self.grid_size))\n",
    "\n",
    "        self.position[0:2,:]= -1\n",
    "        self.position[:,0:2] = -1\n",
    "        self.position[-2:, :] = -1\n",
    "        self.position[-2:, :] = -1\n",
    "\n",
    "        self.position[self.x, self.y] = 1\n",
    "        if action == 0:\n",
    "            if self.x == self.grid_size-3:\n",
    "                self.x = self.x-1\n",
    "            else:\n",
    "                self.x = self.x + 1\n",
    "        elif action == 1:\n",
    "            if self.x == 2:\n",
    "                self.x = self.x+1\n",
    "            else:\n",
    "                self.x = self.x-1\n",
    "        elif action == 2:\n",
    "            if self.y == self.grid_size - 3:\n",
    "                self.y = self.y - 1\n",
    "            else:\n",
    "                self.y = self.y + 1\n",
    "        elif action == 3:\n",
    "            if self.y == 2:\n",
    "                self.y = self.y + 1\n",
    "            else:\n",
    "                self.y = self.y - 1\n",
    "        else:\n",
    "            RuntimeError('Error: action not recognized')\n",
    "\n",
    "        self.t = self.t + 1\n",
    "        reward = self.board[self.x, self.y]\n",
    "        self.board[self.x, self.y] = 0\n",
    "        game_over = self.t > self.max_time\n",
    "        state = np.concatenate((self.board.reshape(self.grid_size, self.grid_size,1),\n",
    "                        self.position.reshape(self.grid_size, self.grid_size,1)),axis=2)\n",
    "        state = state[self.x-2:self.x+3,self.y-2:self.y+3,:]\n",
    "\n",
    "        return state, reward, game_over\n",
    "\n",
    "    def reset(self):\n",
    "        \"\"\"This function resets the game and returns the initial state\"\"\"\n",
    "\n",
    "        self.x = np.random.randint(3, self.grid_size-3, size=1)[0]\n",
    "        self.y = np.random.randint(3, self.grid_size-3, size=1)[0]\n",
    "\n",
    "\n",
    "        bonus = 0.5*np.random.binomial(1,self.temperature,size=self.grid_size**2)\n",
    "        bonus = bonus.reshape(self.grid_size,self.grid_size)\n",
    "\n",
    "        malus = -1.0*np.random.binomial(1,self.temperature,size=self.grid_size**2)\n",
    "        malus = malus.reshape(self.grid_size, self.grid_size)\n",
    "\n",
    "        self.to_draw = np.zeros((self.max_time+2, self.grid_size*self.scale, self.grid_size*self.scale, 3))\n",
    "\n",
    "\n",
    "        malus[bonus>0]=0\n",
    "\n",
    "        self.board = bonus + malus\n",
    "\n",
    "        self.position = np.zeros((self.grid_size, self.grid_size))\n",
    "        self.position[0:2,:]= -1\n",
    "        self.position[:,0:2] = -1\n",
    "        self.position[-2:, :] = -1\n",
    "        self.position[-2:, :] = -1\n",
    "        self.board[self.x,self.y] = 0\n",
    "        self.t = 0\n",
    "\n",
    "        state = np.concatenate((\n",
    "                               self.board.reshape(self.grid_size, self.grid_size,1),\n",
    "                        self.position.reshape(self.grid_size, self.grid_size,1)),axis=2)\n",
    "\n",
    "        state = state[self.x - 2:self.x + 3, self.y - 2:self.y + 3, :]\n",
    "        return state"
   ]
  },
  {
   "cell_type": "markdown",
   "metadata": {
    "colab_type": "text",
    "id": "OOL4fsQj-Ofq"
   },
   "source": [
    "The following elements are important because they correspond to the hyper parameters for this project:"
   ]
  },
  {
   "cell_type": "code",
   "execution_count": 0,
   "metadata": {
    "colab": {},
    "colab_type": "code",
    "id": "ul7UR0Jq-Oft"
   },
   "outputs": [],
   "source": [
    "# parameters\n",
    "size = 13\n",
    "T=200\n",
    "temperature=0.3\n",
    "epochs_train=80 # set small when debugging\n",
    "epochs_test=15 # set small when debugging\n",
    "\n",
    "# display videos\n",
    "def display_videos(name):\n",
    "    video = io.open(name, 'r+b').read()\n",
    "    encoded = base64.b64encode(video)\n",
    "    return '''<video alt=\"test\" controls>\n",
    "                <source src=\"data:video/mp4;base64,{0}\" type=\"video/mp4\" />\n",
    "             </video>'''.format(encoded.decode('ascii'))"
   ]
  },
  {
   "cell_type": "markdown",
   "metadata": {
    "colab_type": "text",
    "id": "e-ytdlWV-Of3"
   },
   "source": [
    "__Question 2__ Explain the use of the arrays ```position``` and ```board```."
   ]
  },
  {
   "cell_type": "markdown",
   "metadata": {
    "colab_type": "text",
    "id": "_nR_-nBV-Of8"
   },
   "source": [
    "The array ```position``` defines the borders of the grid, the allowed states and the position of the agent. At each step (each time tha actor take an action), -1 is assigned for the cells representing the borders (ie the states that can't be visited), 0 is assigned for all the other cells that can be visited, and 1 is assigned for the current cell occupied by the agent.\n",
    "\n",
    "The array ```board``` defines the distribution of the rewards over each cell in the $N\\times N$ grid. It stores the reward of being in each cell (x,y). each reward collected by the agent after an action is reset to 0."
   ]
  },
  {
   "cell_type": "markdown",
   "metadata": {
    "colab_type": "text",
    "id": "iKhJMuq5-Of9"
   },
   "source": [
    "## Random Agent"
   ]
  },
  {
   "cell_type": "markdown",
   "metadata": {
    "colab_type": "text",
    "id": "tVfafcYE-OgC"
   },
   "source": [
    "***\n",
    "__Question 3__ Implement a random Agent (only ```learned_act``` needs to be implemented):"
   ]
  },
  {
   "cell_type": "code",
   "execution_count": 0,
   "metadata": {
    "colab": {},
    "colab_type": "code",
    "id": "Mz_zO-Qa-OgF"
   },
   "outputs": [],
   "source": [
    "class RandomAgent(Agent):\n",
    "    def __init__(self):\n",
    "        super(RandomAgent, self).__init__()\n",
    "        pass\n",
    "\n",
    "    def learned_act(self, s):\n",
    "        pass"
   ]
  },
  {
   "cell_type": "markdown",
   "metadata": {
    "colab_type": "text",
    "id": "hI7v8CFC-OgX"
   },
   "source": [
    "***\n",
    "***\n",
    "__Question 4__ Visualize the game moves. You need to fill in the following function for the evaluation:"
   ]
  },
  {
   "cell_type": "code",
   "execution_count": 0,
   "metadata": {
    "colab": {},
    "colab_type": "code",
    "id": "1hzE7FMz-OgZ"
   },
   "outputs": [],
   "source": [
    "def test(agent,env,epochs,prefix='', printt=True, mimics = False):\n",
    "    # Number of won games\n",
    "    score = 0\n",
    "        \n",
    "    for e in range(epochs):\n",
    "        # At each epoch, we restart to a fresh game and get the initial state\n",
    "        state = env.reset()\n",
    "        # This assumes that the games will end\n",
    "        game_over = False\n",
    "\n",
    "        win = 0\n",
    "        lose = 0\n",
    "        \n",
    "        while not game_over:\n",
    "            # The agent performs an action\n",
    "            if mimics : # we adapt the function test to the case when we use a neural network to mimics the agent ( the bonus question )\n",
    "              out = agent.predict(state[None])\n",
    "              action = np.argmax(out)\n",
    "            else :\n",
    "              action = agent.act(state)\n",
    "\n",
    "            # Apply an action to the environment, get the next state, the reward\n",
    "            # and if the games end\n",
    "            state, reward, game_over = env.act(action)\n",
    "\n",
    "            # Update the counters\n",
    "            if reward > 0:\n",
    "                win = win + reward\n",
    "            if reward < 0:\n",
    "                lose = lose -reward\n",
    "        \n",
    "        # Save as a mp4\n",
    "        env.draw(prefix+str(e))\n",
    "\n",
    "        # Update stats\n",
    "        score = score + win-lose\n",
    "        if printt :\n",
    "          print(\"Win/lose count {}/{}. Average score ({})\"\n",
    "              .format(win, lose, score/(1+e)))\n",
    "    print('Final score: '+str(score/epochs))\n",
    "    return score/epochs"
   ]
  },
  {
   "cell_type": "code",
   "execution_count": 11,
   "metadata": {
    "colab": {
     "base_uri": "https://localhost:8080/",
     "height": 562
    },
    "colab_type": "code",
    "id": "4iJEsKKs-Ogi",
    "outputId": "85ff6589-ebb5-40c9-c664-9085c689408f"
   },
   "outputs": [
    {
     "name": "stdout",
     "output_type": "stream",
     "text": [
      "Win/lose count 2.0/4.0. Average score (-2.0)\n",
      "Win/lose count 3.0/4.0. Average score (-1.5)\n",
      "Win/lose count 3.0/2.0. Average score (-0.6666666666666666)\n",
      "Win/lose count 1.0/2.0. Average score (-0.75)\n",
      "Win/lose count 2.5/0. Average score (-0.1)\n",
      "Win/lose count 1.5/2.0. Average score (-0.16666666666666666)\n",
      "Win/lose count 3.5/2.0. Average score (0.07142857142857142)\n",
      "Win/lose count 2.0/2.0. Average score (0.0625)\n",
      "Win/lose count 0.5/6.0. Average score (-0.5555555555555556)\n",
      "Win/lose count 2.5/2.0. Average score (-0.45)\n",
      "Win/lose count 0.5/5.0. Average score (-0.8181818181818182)\n",
      "Win/lose count 1.5/3.0. Average score (-0.875)\n",
      "Win/lose count 3.0/3.0. Average score (-0.8076923076923077)\n",
      "Win/lose count 3.0/0. Average score (-0.5357142857142857)\n",
      "Win/lose count 0.5/2.0. Average score (-0.6)\n",
      "Final score: -0.6\n"
     ]
    },
    {
     "data": {
      "text/html": [
       "<video alt=\"test\" controls>\n",
       "                <source src=\"data:video/mp4;base64,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\" type=\"video/mp4\" />\n",
       "             </video>"
      ],
      "text/plain": [
       "<IPython.core.display.HTML object>"
      ]
     },
     "execution_count": 11,
     "metadata": {
      "tags": []
     },
     "output_type": "execute_result"
    }
   ],
   "source": [
    "# Initialize the game\n",
    "env = Environment(grid_size=size, max_time=T,temperature=temperature)\n",
    "\n",
    "# Initialize the agent!\n",
    "agent = RandomAgent()\n",
    "\n",
    "test(agent,env,epochs_test,prefix='random')\n",
    "HTML(display_videos('random0.mp4'))"
   ]
  },
  {
   "cell_type": "markdown",
   "metadata": {
    "colab_type": "text",
    "id": "QWzRCZ96-Ogs"
   },
   "source": [
    "***\n",
    "## DQN"
   ]
  },
  {
   "cell_type": "markdown",
   "metadata": {
    "colab_type": "text",
    "id": "S7LeOlo3-Ogv"
   },
   "source": [
    "Let us assume here that $T=\\infty$.\n",
    "\n",
    "***\n",
    "__Question 5__ Let $\\pi$ be a policy, show that:\n",
    "\n",
    "\\begin{equation*}\n",
    "Q^{\\pi}(s,a)=E_{(s',a')\\sim p(.|s,a)}[r(s,a)+\\gamma Q^{\\pi}(s',a')]\n",
    "\\end{equation*}\n",
    "\n",
    "Then, show that for the optimal policy $\\pi^*$ (we assume its existence), the following holds: \n",
    "\n",
    "\\begin{equation*}\n",
    "Q^{*}(s,a)=E_{s'\\sim \\pi^*(.|s,a)}[r(s,a)+\\gamma\\max_{a'}Q^{*}(s',a')].\n",
    "\\end{equation*}\n",
    "Finally, deduce that a plausible objective is:\n",
    "\n",
    "\\begin{equation*}\n",
    "\\mathcal{L}(\\theta)=E_{s' \\sim \\pi^*(.|s,a)}\\Vert r+\\gamma\\max\\max_{a'}Q(s',a',\\theta)-Q(s,a,\\theta)\\Vert^{2}.\n",
    "\\end{equation*}\n",
    "\n",
    "\n"
   ]
  },
  {
   "cell_type": "markdown",
   "metadata": {
    "colab_type": "text",
    "id": "IYDZ1TWS-Ogy"
   },
   "source": [
    "### 1) Equation verified by $Q^{\\pi}$ :\n",
    "We have :\n",
    "$$\n",
    "\\begin{align*} \n",
    "Q^\\pi(s,a)&=E_{p^{\\pi}}[\\sum_{t=0}^{\\infty}\\gamma^{t}r(s_{t},a_{t})|s_{0}=s,a_{0}=a]\\\\\n",
    "&=E_{p^{\\pi}}[r(s_0,a_0) + \\gamma\\sum_{t=1}^{\\infty}\\gamma^{t-1}r(s_{t},a_{t})|s_{0}=s,a_{0}=a]\\\\\n",
    "&=r(s,a) + \\gamma E_{p^{\\pi}}[\\sum_{t=0}^{\\infty}\\gamma^{t}r(s_{t+1},a_{t+1})|s_{0}=s,a_{0}=a]\\\\\n",
    "&=r(s,a) + E_{(s',a')\\sim p(.|s,a)}\\left(\\gamma E_{p^{\\pi}}[\\sum_{t=0}^{\\infty}\\gamma^{t}r(s_{t},a_{t})|s_{0}=s',a_{0}=a']\\right)\\\\\n",
    "&=E_{(s',a')\\sim p(.|s,a)}\\left(r(s,a) + \\gamma E_{p^{\\pi}}[\\sum_{t=0}^{\\infty}\\gamma^{t}r(s_{t},a_{t})|s_{0}=s',a_{0}=a']\\right)\\\\\n",
    "&=E_{(s',a')\\sim p(.|s,a)}\\left(r(s,a) + \\gamma Q^{\\pi}(s',a') \\right)\n",
    "\\end{align*}$$"
   ]
  },
  {
   "cell_type": "markdown",
   "metadata": {
    "colab_type": "text",
    "id": "Js6ooqJpXGZe"
   },
   "source": [
    "### 2 ) Equation verified by $Q^*$\n",
    "\n",
    "We recall that $Q^*(s,a)=max_\\pi Q^\\pi(s,a)$ and we assume that there exist an optimal policy $\\pi^*$ such that $\\pi^*(s)=argmax_{a}Q^*(s,a)$. We have then :\n",
    "\n",
    "$$\n",
    "\\begin{align*}\n",
    "Q^*(s,a) &=\\max_\\pi \\left[E_{(s',a')\\sim p(.|s,a)}\\left(r(s,a) + \\gamma Q^{\\pi})\\right(s',a') \\right] \\\\\n",
    "&= E_{s'\\sim \\pi^*(.|s,a),~~a'\\sim \\pi^*(.|s')}\\left(r(s,a) + \\gamma Q^{*}(s',a') \\right)\\\\\n",
    "        &= E_{s' \\sim \\pi^*(.|s,a)}\\left(r(s,a) + \\gamma \\max_{a'}Q^{*}(s',a') \\right)\\\\\n",
    "\\end{align*}\n",
    "$$"
   ]
  },
  {
   "cell_type": "markdown",
   "metadata": {
    "colab_type": "text",
    "id": "S8NUUhkyXGpI"
   },
   "source": [
    "### 3) \n",
    "We have proved that $Q^*(s,a)=E_{s' \\sim \\pi^*(.|s,a)}\\left(r(s,a) + \\gamma \\max_{a'}Q^{*}(s',a') \\right)$, so $Q^*$ is the solution of the equation $F(Q) = 0$ where $$F(Q) = E_{s' \\sim \\pi^*(.|s,a)}\\left(r(s,a) + \\gamma \\max_{a'}Q(s',a') - Q(s,a)\\right)$$\n",
    "\n",
    "Then, minimizing $\\mathcal{L}(\\theta)=E_{s' \\sim \\pi^*(.|s,a)}\\Vert r+\\gamma\\max_{a'}Q(s',a',\\theta)-Q(s,a,\\theta)\\Vert^{2}$ is a plausible objective to find $Q^*$.\n"
   ]
  },
  {
   "cell_type": "markdown",
   "metadata": {
    "colab_type": "text",
    "id": "lvslLZbP-Ogz"
   },
   "source": [
    "***\n",
    "The DQN-learning algorithm relies on these derivations to train the parameters $\\theta$ of a Deep Neural Network:\n",
    "\n",
    "1. At the state $s_t$, select the action $a_t$ with best reward using $Q_t$ and store the results;\n",
    "\n",
    "2. Obtain the new state $s_{t+1}$ from the environment $p$;\n",
    "\n",
    "3. Store $(s_t,a_t,s_{t+1})$;\n",
    "\n",
    "4. Obtain $Q_{t+1}$ by minimizing  $\\mathcal{L}$ from a recovered batch from the previously stored results.\n",
    "\n",
    "***\n",
    "__Question 6__ Implement the class ```Memory``` that stores moves (in a replay buffer) via ```remember``` and provides a ```random_access``` to these. Specify a maximum memory size to avoid side effects. You can for example use a ```list()``` and set by default ```max_memory=100```."
   ]
  },
  {
   "cell_type": "code",
   "execution_count": 0,
   "metadata": {
    "colab": {},
    "colab_type": "code",
    "id": "0NYxqDQz-Og1"
   },
   "outputs": [],
   "source": [
    "class Memory(object):\n",
    "    def __init__(self, max_memory=100):\n",
    "        self.max_memory = max_memory\n",
    "        self.memory = list()\n",
    "\n",
    "    def remember(self, m):\n",
    "        if len(self.memory)>self.max_memory:\n",
    "          del self.memory[0]\n",
    "        self.memory.append(m)  \n",
    "\n",
    "    def random_access(self):\n",
    "        return self.memory[np.random.randint(len(self.memory))]"
   ]
  },
  {
   "cell_type": "markdown",
   "metadata": {
    "colab_type": "text",
    "id": "CamVCKmk-Og7"
   },
   "source": [
    "***\n",
    "The pipeline we will use for training is given below:"
   ]
  },
  {
   "cell_type": "code",
   "execution_count": 0,
   "metadata": {
    "colab": {},
    "colab_type": "code",
    "id": "FA_goT7a-Og-"
   },
   "outputs": [],
   "source": [
    "def train(agent,env,epoch,prefix=''):\n",
    "    # Number of won games\n",
    "    score = 0\n",
    "    loss = 0\n",
    "\n",
    "    for e in range(epoch+1):\n",
    "        # At each epoch, we restart to a fresh game and get the initial state\n",
    "        state = env.reset()\n",
    "        # This assumes that the games will terminate\n",
    "        game_over = False\n",
    "\n",
    "        win = 0\n",
    "        lose = 0\n",
    "\n",
    "        while not game_over:\n",
    "            # The agent performs an action\n",
    "            action = agent.act(state)\n",
    "\n",
    "            # Apply an action to the environment, get the next state, the reward\n",
    "            # and if the games end\n",
    "            prev_state = state\n",
    "            state, reward, game_over = env.act(action)\n",
    "\n",
    "            # Update the counters\n",
    "            if reward > 0:\n",
    "                win = win + reward\n",
    "            if reward < 0:\n",
    "                lose = lose -reward\n",
    "\n",
    "            # Apply the reinforcement strategy\n",
    "            loss = agent.reinforce(prev_state, state,  action, reward, game_over)\n",
    "\n",
    "        # Save as a mp4\n",
    "        if e % 10 == 0:\n",
    "            env.draw(prefix+str(e))\n",
    "\n",
    "        # Update stats\n",
    "        score += win-lose\n",
    "\n",
    "        print(\"Epoch {:03d}/{:03d} | Loss {:.4f} | Win/lose count {}/{} ({})\"\n",
    "              .format(e, epoch, loss, win, lose, win-lose))\n",
    "        agent.save(name_weights=prefix+'model.h5',name_model=prefix+'model.json')"
   ]
  },
  {
   "cell_type": "markdown",
   "metadata": {
    "colab_type": "text",
    "id": "5S8GrsM--OhF"
   },
   "source": [
    "***\n",
    "__Question 7__ Implement the DQN training algorithm using a cascade of fully connected layers. You can use different learning rate, batch size or memory size parameters. In particular, the loss might oscillate while the player will start to win the games. You have to find a good criterium."
   ]
  },
  {
   "cell_type": "code",
   "execution_count": 0,
   "metadata": {
    "colab": {},
    "colab_type": "code",
    "id": "CNV1iaTo-OhH"
   },
   "outputs": [],
   "source": [
    "class DQN(Agent):\n",
    "    def __init__(self, grid_size,  epsilon = 0.1, memory_size=100, batch_size = 16,n_state=2):\n",
    "        super(DQN, self).__init__(epsilon = epsilon)\n",
    "\n",
    "        # Discount for Q learning\n",
    "        self.discount = 0.99\n",
    "        \n",
    "        self.grid_size = grid_size\n",
    "        \n",
    "        # number of state\n",
    "        self.n_state = n_state\n",
    "\n",
    "        # Memory\n",
    "        self.memory = Memory(memory_size)\n",
    "        \n",
    "        # Batch size when learning\n",
    "        self.batch_size = batch_size\n",
    "\n",
    "    def learned_act(self, s):\n",
    "        return np.argmax(self.model.predict(s.reshape(1,s.shape[0],s.shape[1],s.shape[2])),1)\n",
    "\n",
    "    def reinforce(self, s_, n_s_, a_, r_, game_over_):\n",
    "        # Two steps: first memorize the states, second learn from the pool\n",
    "\n",
    "        self.memory.remember([s_, n_s_, a_, r_, game_over_])\n",
    "        \n",
    "        input_states = np.zeros((self.batch_size, 5,5,self.n_state))\n",
    "        target_q = np.zeros((self.batch_size, 4))\n",
    "        \n",
    "        for i in range(self.batch_size):\n",
    "            s_, n_s_, a_, r_, game_over_ = self.memory.random_access()\n",
    "            # Saving current state\n",
    "            input_states[i] = s_\n",
    "            \n",
    "            # Get current Q(s,.)\n",
    "            target_q[i] = self.model.predict(s_.reshape((1,s_.shape[0],s_.shape[1],s_.shape[2])))\n",
    "            \n",
    "            # Update Q(s,a)\n",
    "            if game_over_:\n",
    "                # No next state, we take only the reward\n",
    "                target_q[i,a_] = r_\n",
    "            else:\n",
    "                # Update target_q  \n",
    "                target_q[i,a_] = r_ + self.discount*np.max(self.model.predict(n_s_.reshape((1,n_s_.shape[0],n_s_.shape[1],n_s_.shape[2]))),axis=1)\n",
    "\n",
    "        # HINT: Clip the target to avoid exploiding gradients.. -- clipping is a bit tighter\n",
    "        target_q = np.clip(target_q, -3, 3)\n",
    "\n",
    "        l = self.model.train_on_batch(input_states, target_q)\n",
    "\n",
    "        return l\n",
    "\n",
    "    def save(self,name_weights='model.h5',name_model='model.json'):\n",
    "        self.model.save_weights(name_weights, overwrite=True)\n",
    "        with open(name_model, \"w\") as outfile:\n",
    "            json.dump(self.model.to_json(), outfile)\n",
    "            \n",
    "    def load(self,name_weights='model.h5',name_model='model.json'):\n",
    "        with open(name_model, \"r\") as jfile:\n",
    "            model = model_from_json(json.load(jfile))\n",
    "        model.load_weights(name_weights)\n",
    "        model.compile(\"sgd\", \"mse\")\n",
    "        self.model = model\n",
    "\n",
    "            \n",
    "class DQN_FC(DQN):\n",
    "    def __init__(self, *args, lr=0.1,**kwargs):\n",
    "        super(DQN_FC, self).__init__( *args,**kwargs)\n",
    "        \n",
    "        # NN Model\n",
    "        model = Sequential()\n",
    "\n",
    "        model.add(Flatten(input_shape=(5,5,self.n_state)))\n",
    "        model.add(Dense(32, activation='relu'))\n",
    "        model.add(Dense(4))\n",
    "        ####### FILL IN\n",
    "        \n",
    "        model.compile(sgd(lr=lr, decay=1e-4, momentum=0.0), \"mse\")\n",
    "        self.model = model\n",
    "        "
   ]
  },
  {
   "cell_type": "code",
   "execution_count": 15,
   "metadata": {
    "colab": {
     "base_uri": "https://localhost:8080/",
     "height": 1000
    },
    "colab_type": "code",
    "id": "U3fNIYgC-OhQ",
    "outputId": "306e7266-006f-4553-c588-539c3d4cd2bc"
   },
   "outputs": [
    {
     "name": "stdout",
     "output_type": "stream",
     "text": [
      "WARNING:tensorflow:From /usr/local/lib/python3.6/dist-packages/keras/backend/tensorflow_backend.py:66: The name tf.get_default_graph is deprecated. Please use tf.compat.v1.get_default_graph instead.\n",
      "\n",
      "WARNING:tensorflow:From /usr/local/lib/python3.6/dist-packages/keras/backend/tensorflow_backend.py:541: The name tf.placeholder is deprecated. Please use tf.compat.v1.placeholder instead.\n",
      "\n",
      "WARNING:tensorflow:From /usr/local/lib/python3.6/dist-packages/keras/backend/tensorflow_backend.py:4432: The name tf.random_uniform is deprecated. Please use tf.random.uniform instead.\n",
      "\n",
      "WARNING:tensorflow:From /usr/local/lib/python3.6/dist-packages/keras/optimizers.py:793: The name tf.train.Optimizer is deprecated. Please use tf.compat.v1.train.Optimizer instead.\n",
      "\n",
      "WARNING:tensorflow:From /usr/local/lib/python3.6/dist-packages/keras/backend/tensorflow_backend.py:3005: The name tf.Session is deprecated. Please use tf.compat.v1.Session instead.\n",
      "\n",
      "WARNING:tensorflow:From /usr/local/lib/python3.6/dist-packages/keras/backend/tensorflow_backend.py:190: The name tf.get_default_session is deprecated. Please use tf.compat.v1.get_default_session instead.\n",
      "\n",
      "WARNING:tensorflow:From /usr/local/lib/python3.6/dist-packages/keras/backend/tensorflow_backend.py:197: The name tf.ConfigProto is deprecated. Please use tf.compat.v1.ConfigProto instead.\n",
      "\n",
      "WARNING:tensorflow:From /usr/local/lib/python3.6/dist-packages/keras/backend/tensorflow_backend.py:207: The name tf.global_variables is deprecated. Please use tf.compat.v1.global_variables instead.\n",
      "\n",
      "WARNING:tensorflow:From /usr/local/lib/python3.6/dist-packages/keras/backend/tensorflow_backend.py:216: The name tf.is_variable_initialized is deprecated. Please use tf.compat.v1.is_variable_initialized instead.\n",
      "\n",
      "WARNING:tensorflow:From /usr/local/lib/python3.6/dist-packages/keras/backend/tensorflow_backend.py:223: The name tf.variables_initializer is deprecated. Please use tf.compat.v1.variables_initializer instead.\n",
      "\n",
      "WARNING:tensorflow:From /usr/local/lib/python3.6/dist-packages/keras/backend/tensorflow_backend.py:1033: The name tf.assign_add is deprecated. Please use tf.compat.v1.assign_add instead.\n",
      "\n",
      "WARNING:tensorflow:From /usr/local/lib/python3.6/dist-packages/keras/backend/tensorflow_backend.py:1020: The name tf.assign is deprecated. Please use tf.compat.v1.assign instead.\n",
      "\n",
      "Epoch 000/080 | Loss 0.0027 | Win/lose count 2.5/3.0 (-0.5)\n",
      "Epoch 001/080 | Loss 0.0023 | Win/lose count 2.5/8.0 (-5.5)\n",
      "Epoch 002/080 | Loss 0.0162 | Win/lose count 4.5/3.0 (1.5)\n",
      "Epoch 003/080 | Loss 0.0113 | Win/lose count 2.5/3.0 (-0.5)\n",
      "Epoch 004/080 | Loss 0.0301 | Win/lose count 4.0/1.0 (3.0)\n",
      "Epoch 005/080 | Loss 0.0097 | Win/lose count 1.5/7.0 (-5.5)\n",
      "Epoch 006/080 | Loss 0.0197 | Win/lose count 1.5/1.0 (0.5)\n",
      "Epoch 007/080 | Loss 0.0098 | Win/lose count 4.0/4.0 (0.0)\n",
      "Epoch 008/080 | Loss 0.0041 | Win/lose count 6.5/8.0 (-1.5)\n",
      "Epoch 009/080 | Loss 0.0049 | Win/lose count 6.0/2.0 (4.0)\n",
      "Epoch 010/080 | Loss 0.0059 | Win/lose count 3.5/4.0 (-0.5)\n",
      "Epoch 011/080 | Loss 0.0543 | Win/lose count 9.0/2.0 (7.0)\n",
      "Epoch 012/080 | Loss 0.0116 | Win/lose count 0.5/4.0 (-3.5)\n",
      "Epoch 013/080 | Loss 0.0122 | Win/lose count 4.5/3.0 (1.5)\n",
      "Epoch 014/080 | Loss 0.0024 | Win/lose count 6.5/4.0 (2.5)\n",
      "Epoch 015/080 | Loss 0.0054 | Win/lose count 2.0/1.0 (1.0)\n",
      "Epoch 016/080 | Loss 0.0080 | Win/lose count 6.0/4.0 (2.0)\n",
      "Epoch 017/080 | Loss 0.0113 | Win/lose count 12.5/5.0 (7.5)\n",
      "Epoch 018/080 | Loss 0.0035 | Win/lose count 1.5/2.0 (-0.5)\n",
      "Epoch 019/080 | Loss 0.0050 | Win/lose count 4.5/4.0 (0.5)\n",
      "Epoch 020/080 | Loss 0.0073 | Win/lose count 3.0/3.0 (0.0)\n",
      "Epoch 021/080 | Loss 0.0419 | Win/lose count 3.0/2.0 (1.0)\n",
      "Epoch 022/080 | Loss 0.0395 | Win/lose count 2.0/0 (2.0)\n",
      "Epoch 023/080 | Loss 0.0140 | Win/lose count 5.0/4.0 (1.0)\n",
      "Epoch 024/080 | Loss 0.0080 | Win/lose count 5.0/2.0 (3.0)\n",
      "Epoch 025/080 | Loss 0.0038 | Win/lose count 7.0/4.0 (3.0)\n",
      "Epoch 026/080 | Loss 0.0325 | Win/lose count 5.0/5.0 (0.0)\n",
      "Epoch 027/080 | Loss 0.0950 | Win/lose count 4.0/2.0 (2.0)\n",
      "Epoch 028/080 | Loss 0.0073 | Win/lose count 6.0/4.0 (2.0)\n",
      "Epoch 029/080 | Loss 0.0026 | Win/lose count 3.0/1.0 (2.0)\n",
      "Epoch 030/080 | Loss 0.0085 | Win/lose count 5.5/2.0 (3.5)\n",
      "Epoch 031/080 | Loss 0.0033 | Win/lose count 5.0/4.0 (1.0)\n",
      "Epoch 032/080 | Loss 0.0079 | Win/lose count 10.5/6.0 (4.5)\n",
      "Epoch 033/080 | Loss 0.0027 | Win/lose count 14.0/6.0 (8.0)\n",
      "Epoch 034/080 | Loss 0.0498 | Win/lose count 14.0/3.0 (11.0)\n",
      "Epoch 035/080 | Loss 0.0050 | Win/lose count 2.0/6.0 (-4.0)\n",
      "Epoch 036/080 | Loss 0.0057 | Win/lose count 10.0/5.0 (5.0)\n",
      "Epoch 037/080 | Loss 0.0065 | Win/lose count 9.5/7.0 (2.5)\n",
      "Epoch 038/080 | Loss 0.0069 | Win/lose count 11.5/2.0 (9.5)\n",
      "Epoch 039/080 | Loss 0.0058 | Win/lose count 9.5/4.0 (5.5)\n",
      "Epoch 040/080 | Loss 0.0054 | Win/lose count 3.0/4.0 (-1.0)\n",
      "Epoch 041/080 | Loss 0.0023 | Win/lose count 11.5/4.0 (7.5)\n",
      "Epoch 042/080 | Loss 0.0019 | Win/lose count 12.5/7.0 (5.5)\n",
      "Epoch 043/080 | Loss 0.0094 | Win/lose count 3.0/4.0 (-1.0)\n",
      "Epoch 044/080 | Loss 0.0075 | Win/lose count 8.5/2.0 (6.5)\n",
      "Epoch 045/080 | Loss 0.0072 | Win/lose count 10.0/5.0 (5.0)\n",
      "Epoch 046/080 | Loss 0.0034 | Win/lose count 9.5/1.0 (8.5)\n",
      "Epoch 047/080 | Loss 0.0039 | Win/lose count 12.5/1.0 (11.5)\n",
      "Epoch 048/080 | Loss 0.0049 | Win/lose count 11.0/1.0 (10.0)\n",
      "Epoch 049/080 | Loss 0.0044 | Win/lose count 4.5/1.0 (3.5)\n",
      "Epoch 050/080 | Loss 0.0030 | Win/lose count 2.5/0 (2.5)\n",
      "Epoch 051/080 | Loss 0.0041 | Win/lose count 10.0/1.0 (9.0)\n",
      "Epoch 052/080 | Loss 0.0053 | Win/lose count 14.5/6.0 (8.5)\n",
      "Epoch 053/080 | Loss 0.0529 | Win/lose count 4.0/1.0 (3.0)\n",
      "Epoch 054/080 | Loss 0.0600 | Win/lose count 12.5/1.0 (11.5)\n",
      "Epoch 055/080 | Loss 0.0020 | Win/lose count 10.0/2.0 (8.0)\n",
      "Epoch 056/080 | Loss 0.0050 | Win/lose count 20.0/1.0 (19.0)\n",
      "Epoch 057/080 | Loss 0.0029 | Win/lose count 9.0/2.0 (7.0)\n",
      "Epoch 058/080 | Loss 0.0077 | Win/lose count 9.0/3.0 (6.0)\n",
      "Epoch 059/080 | Loss 0.0036 | Win/lose count 4.0/5.0 (-1.0)\n",
      "Epoch 060/080 | Loss 0.0519 | Win/lose count 13.0/2.0 (11.0)\n",
      "Epoch 061/080 | Loss 0.0031 | Win/lose count 9.0/3.0 (6.0)\n",
      "Epoch 062/080 | Loss 0.0051 | Win/lose count 13.0/4.0 (9.0)\n",
      "Epoch 063/080 | Loss 0.0099 | Win/lose count 15.0/4.0 (11.0)\n",
      "Epoch 064/080 | Loss 0.0051 | Win/lose count 12.5/5.0 (7.5)\n",
      "Epoch 065/080 | Loss 0.0065 | Win/lose count 4.5/3.0 (1.5)\n",
      "Epoch 066/080 | Loss 0.0042 | Win/lose count 14.0/1.0 (13.0)\n",
      "Epoch 067/080 | Loss 0.0068 | Win/lose count 15.5/3.0 (12.5)\n",
      "Epoch 068/080 | Loss 0.0529 | Win/lose count 6.5/1.0 (5.5)\n",
      "Epoch 069/080 | Loss 0.0069 | Win/lose count 9.5/2.0 (7.5)\n",
      "Epoch 070/080 | Loss 0.0452 | Win/lose count 12.0/1.0 (11.0)\n",
      "Epoch 071/080 | Loss 0.0035 | Win/lose count 15.0/4.0 (11.0)\n",
      "Epoch 072/080 | Loss 0.0057 | Win/lose count 14.0/2.0 (12.0)\n",
      "Epoch 073/080 | Loss 0.0051 | Win/lose count 9.0/3.0 (6.0)\n",
      "Epoch 074/080 | Loss 0.0058 | Win/lose count 8.5/1.0 (7.5)\n",
      "Epoch 075/080 | Loss 0.0035 | Win/lose count 4.0/3.0 (1.0)\n",
      "Epoch 076/080 | Loss 0.0080 | Win/lose count 15.5/3.0 (12.5)\n",
      "Epoch 077/080 | Loss 0.0072 | Win/lose count 7.0/5.0 (2.0)\n",
      "Epoch 078/080 | Loss 0.0055 | Win/lose count 6.0/5.0 (1.0)\n",
      "Epoch 079/080 | Loss 0.0561 | Win/lose count 7.0/3.0 (4.0)\n",
      "Epoch 080/080 | Loss 0.0031 | Win/lose count 8.5/0 (8.5)\n"
     ]
    },
    {
     "data": {
      "text/html": [
       "<video alt=\"test\" controls>\n",
       "                <source src=\"data:video/mp4;base64,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\" type=\"video/mp4\" />\n",
       "             </video>"
      ],
      "text/plain": [
       "<IPython.core.display.HTML object>"
      ]
     },
     "execution_count": 15,
     "metadata": {
      "tags": []
     },
     "output_type": "execute_result"
    }
   ],
   "source": [
    "epochs_train = 80\n",
    "env = Environment(grid_size=size, max_time=T, temperature=0.3)\n",
    "agent = DQN_FC(size, lr=.1, epsilon = 0.1, memory_size=2000, batch_size = 32)\n",
    "train(agent, env, epochs_train, prefix='fc_train')\n",
    "HTML(display_videos('fc_train80.mp4'))"
   ]
  },
  {
   "cell_type": "markdown",
   "metadata": {
    "colab_type": "text",
    "id": "drtUTnqk-OhV"
   },
   "source": [
    "***\n",
    "***\n",
    "__Question 8__ Implement the DQN training algorithm using a CNN (for example, 2 convolutional layers and one final fully connected layer)."
   ]
  },
  {
   "cell_type": "code",
   "execution_count": 0,
   "metadata": {
    "colab": {},
    "colab_type": "code",
    "id": "DlVClLKR-OhW"
   },
   "outputs": [],
   "source": [
    "class DQN_CNN(DQN):\n",
    "    def __init__(self, *args,lr=0.1,**kwargs):\n",
    "        super(DQN_CNN, self).__init__(*args,**kwargs)\n",
    "        \n",
    "        model = Sequential()\n",
    "        model.add(Conv2D(16, (2,2), input_shape = (5,5,self.n_state), activation = 'relu'))\n",
    "        model.add(Conv2D(32,(2,2), activation = 'relu'))\n",
    "        model.add(Flatten())\n",
    "        model.add(Dense(4))\n",
    "        model.compile(sgd(lr=lr, decay=1e-4, momentum=0.0), \"mse\")\n",
    "        self.model = model"
   ]
  },
  {
   "cell_type": "code",
   "execution_count": 107,
   "metadata": {
    "colab": {
     "base_uri": "https://localhost:8080/",
     "height": 1000
    },
    "colab_type": "code",
    "id": "euuwN6QS-Ohf",
    "outputId": "7566bb73-c54e-4925-cde4-3103ff5e7a08"
   },
   "outputs": [
    {
     "name": "stdout",
     "output_type": "stream",
     "text": [
      "Epoch 000/080 | Loss 0.0081 | Win/lose count 3.5/7.0 (-3.5)\n",
      "Epoch 001/080 | Loss 0.0123 | Win/lose count 2.0/1.0 (1.0)\n",
      "Epoch 002/080 | Loss 0.0018 | Win/lose count 3.0/2.0 (1.0)\n",
      "Epoch 003/080 | Loss 0.0281 | Win/lose count 2.5/1.0 (1.5)\n",
      "Epoch 004/080 | Loss 0.0067 | Win/lose count 2.0/1.0 (1.0)\n",
      "Epoch 005/080 | Loss 0.0060 | Win/lose count 3.5/1.0 (2.5)\n",
      "Epoch 006/080 | Loss 0.0022 | Win/lose count 4.5/4.0 (0.5)\n",
      "Epoch 007/080 | Loss 0.0016 | Win/lose count 4.0/0 (4.0)\n",
      "Epoch 008/080 | Loss 0.0033 | Win/lose count 6.0/0 (6.0)\n",
      "Epoch 009/080 | Loss 0.0019 | Win/lose count 6.0/5.0 (1.0)\n",
      "Epoch 010/080 | Loss 0.0016 | Win/lose count 6.0/6.0 (0.0)\n",
      "Epoch 011/080 | Loss 0.0010 | Win/lose count 9.0/2.0 (7.0)\n",
      "Epoch 012/080 | Loss 0.0021 | Win/lose count 6.0/2.0 (4.0)\n",
      "Epoch 013/080 | Loss 0.0033 | Win/lose count 12.5/0 (12.5)\n",
      "Epoch 014/080 | Loss 0.0034 | Win/lose count 9.5/5.0 (4.5)\n",
      "Epoch 015/080 | Loss 0.0017 | Win/lose count 7.5/2.0 (5.5)\n",
      "Epoch 016/080 | Loss 0.0026 | Win/lose count 16.5/3.0 (13.5)\n",
      "Epoch 017/080 | Loss 0.0009 | Win/lose count 6.0/1.0 (5.0)\n",
      "Epoch 018/080 | Loss 0.0067 | Win/lose count 13.0/1.0 (12.0)\n",
      "Epoch 019/080 | Loss 0.0038 | Win/lose count 17.5/2.0 (15.5)\n",
      "Epoch 020/080 | Loss 0.0088 | Win/lose count 21.5/3.0 (18.5)\n",
      "Epoch 021/080 | Loss 0.0024 | Win/lose count 7.5/0 (7.5)\n",
      "Epoch 022/080 | Loss 0.0014 | Win/lose count 13.5/2.0 (11.5)\n",
      "Epoch 023/080 | Loss 0.0024 | Win/lose count 10.0/5.0 (5.0)\n",
      "Epoch 024/080 | Loss 0.0040 | Win/lose count 14.0/2.0 (12.0)\n",
      "Epoch 025/080 | Loss 0.0017 | Win/lose count 8.5/2.0 (6.5)\n",
      "Epoch 026/080 | Loss 0.0091 | Win/lose count 18.0/1.0 (17.0)\n",
      "Epoch 027/080 | Loss 0.0024 | Win/lose count 8.0/1.0 (7.0)\n",
      "Epoch 028/080 | Loss 0.0014 | Win/lose count 19.0/3.0 (16.0)\n",
      "Epoch 029/080 | Loss 0.0028 | Win/lose count 22.0/4.0 (18.0)\n",
      "Epoch 030/080 | Loss 0.0078 | Win/lose count 5.0/4.0 (1.0)\n",
      "Epoch 031/080 | Loss 0.0018 | Win/lose count 20.5/2.0 (18.5)\n",
      "Epoch 032/080 | Loss 0.0015 | Win/lose count 10.5/3.0 (7.5)\n",
      "Epoch 033/080 | Loss 0.0017 | Win/lose count 24.5/4.0 (20.5)\n",
      "Epoch 034/080 | Loss 0.0010 | Win/lose count 13.5/6.0 (7.5)\n",
      "Epoch 035/080 | Loss 0.0016 | Win/lose count 18.0/1.0 (17.0)\n",
      "Epoch 036/080 | Loss 0.0013 | Win/lose count 6.0/0 (6.0)\n",
      "Epoch 037/080 | Loss 0.0027 | Win/lose count 18.5/1.0 (17.5)\n",
      "Epoch 038/080 | Loss 0.0031 | Win/lose count 11.5/2.0 (9.5)\n",
      "Epoch 039/080 | Loss 0.0022 | Win/lose count 7.5/0 (7.5)\n",
      "Epoch 040/080 | Loss 0.0029 | Win/lose count 19.0/2.0 (17.0)\n",
      "Epoch 041/080 | Loss 0.0020 | Win/lose count 8.5/0 (8.5)\n",
      "Epoch 042/080 | Loss 0.0026 | Win/lose count 21.5/3.0 (18.5)\n",
      "Epoch 043/080 | Loss 0.0091 | Win/lose count 5.5/3.0 (2.5)\n",
      "Epoch 044/080 | Loss 0.0015 | Win/lose count 5.0/2.0 (3.0)\n",
      "Epoch 045/080 | Loss 0.0017 | Win/lose count 12.0/0 (12.0)\n",
      "Epoch 046/080 | Loss 0.0515 | Win/lose count 10.5/1.0 (9.5)\n",
      "Epoch 047/080 | Loss 0.0010 | Win/lose count 12.5/2.0 (10.5)\n",
      "Epoch 048/080 | Loss 0.1023 | Win/lose count 7.0/3.0 (4.0)\n",
      "Epoch 049/080 | Loss 0.0026 | Win/lose count 16.0/3.0 (13.0)\n",
      "Epoch 050/080 | Loss 0.0030 | Win/lose count 13.0/3.0 (10.0)\n",
      "Epoch 051/080 | Loss 0.0017 | Win/lose count 7.5/5.0 (2.5)\n",
      "Epoch 052/080 | Loss 0.0009 | Win/lose count 10.0/1.0 (9.0)\n",
      "Epoch 053/080 | Loss 0.0031 | Win/lose count 16.5/1.0 (15.5)\n",
      "Epoch 054/080 | Loss 0.0044 | Win/lose count 18.0/5.0 (13.0)\n",
      "Epoch 055/080 | Loss 0.1051 | Win/lose count 18.5/4.0 (14.5)\n",
      "Epoch 056/080 | Loss 0.0017 | Win/lose count 15.5/4.0 (11.5)\n",
      "Epoch 057/080 | Loss 0.0023 | Win/lose count 16.5/1.0 (15.5)\n",
      "Epoch 058/080 | Loss 0.0035 | Win/lose count 11.5/1.0 (10.5)\n",
      "Epoch 059/080 | Loss 0.0034 | Win/lose count 17.5/0 (17.5)\n",
      "Epoch 060/080 | Loss 0.0037 | Win/lose count 11.0/3.0 (8.0)\n",
      "Epoch 061/080 | Loss 0.0011 | Win/lose count 16.0/0 (16.0)\n",
      "Epoch 062/080 | Loss 0.0014 | Win/lose count 7.5/3.0 (4.5)\n",
      "Epoch 063/080 | Loss 0.0030 | Win/lose count 21.0/4.0 (17.0)\n",
      "Epoch 064/080 | Loss 0.0021 | Win/lose count 17.0/3.0 (14.0)\n",
      "Epoch 065/080 | Loss 0.0020 | Win/lose count 18.0/1.0 (17.0)\n",
      "Epoch 066/080 | Loss 0.0041 | Win/lose count 13.0/2.0 (11.0)\n",
      "Epoch 067/080 | Loss 0.0016 | Win/lose count 9.0/5.0 (4.0)\n",
      "Epoch 068/080 | Loss 0.0009 | Win/lose count 16.5/3.0 (13.5)\n",
      "Epoch 069/080 | Loss 0.0015 | Win/lose count 26.0/3.0 (23.0)\n",
      "Epoch 070/080 | Loss 0.0026 | Win/lose count 15.0/1.0 (14.0)\n",
      "Epoch 071/080 | Loss 0.0020 | Win/lose count 15.0/1.0 (14.0)\n",
      "Epoch 072/080 | Loss 0.0015 | Win/lose count 18.5/2.0 (16.5)\n",
      "Epoch 073/080 | Loss 0.0014 | Win/lose count 18.0/4.0 (14.0)\n",
      "Epoch 074/080 | Loss 0.0121 | Win/lose count 16.0/4.0 (12.0)\n",
      "Epoch 075/080 | Loss 0.0104 | Win/lose count 18.0/4.0 (14.0)\n",
      "Epoch 076/080 | Loss 0.0032 | Win/lose count 13.0/4.0 (9.0)\n",
      "Epoch 077/080 | Loss 0.0029 | Win/lose count 12.0/0 (12.0)\n",
      "Epoch 078/080 | Loss 0.0033 | Win/lose count 12.5/2.0 (10.5)\n",
      "Epoch 079/080 | Loss 0.0025 | Win/lose count 6.5/2.0 (4.5)\n",
      "Epoch 080/080 | Loss 0.0012 | Win/lose count 18.0/3.0 (15.0)\n"
     ]
    },
    {
     "data": {
      "text/html": [
       "<video alt=\"test\" controls>\n",
       "                <source src=\"data:video/mp4;base64,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\" type=\"video/mp4\" />\n",
       "             </video>"
      ],
      "text/plain": [
       "<IPython.core.display.HTML object>"
      ]
     },
     "execution_count": 107,
     "metadata": {
      "tags": []
     },
     "output_type": "execute_result"
    }
   ],
   "source": [
    "train_epochs = 80\n",
    "env = Environment(grid_size=size, max_time=T, temperature=0.3)\n",
    "agent = DQN_CNN(size, lr=.1, epsilon = 0.1, memory_size=2000, batch_size = 32)\n",
    "train(agent,env,train_epochs,prefix='cnn_train')\n",
    "HTML(display_videos('cnn_train80.mp4'))"
   ]
  },
  {
   "cell_type": "markdown",
   "metadata": {
    "colab_type": "text",
    "id": "pI5fqwrr-Ohk"
   },
   "source": [
    "***\n",
    "***\n",
    "__Question 9__ Test both algorithms and compare their performances. Which issue(s) do you observe? Observe also different behaviors by changing the temperature."
   ]
  },
  {
   "cell_type": "code",
   "execution_count": 22,
   "metadata": {
    "colab": {
     "base_uri": "https://localhost:8080/",
     "height": 605
    },
    "colab_type": "code",
    "id": "pTl7pnNe-Ohl",
    "outputId": "027671d6-4b91-42e1-b521-4971adcdd15c"
   },
   "outputs": [
    {
     "name": "stdout",
     "output_type": "stream",
     "text": [
      "Test of the CNN\n",
      "Win/lose count 6.0/2.0. Average score (4.0)\n",
      "Win/lose count 8.5/0. Average score (6.25)\n",
      "Win/lose count 12.5/5.0. Average score (6.666666666666667)\n",
      "Win/lose count 8.5/3.0. Average score (6.375)\n",
      "Win/lose count 15.0/4.0. Average score (7.3)\n",
      "Win/lose count 13.5/5.0. Average score (7.5)\n",
      "Win/lose count 19.5/4.0. Average score (8.642857142857142)\n",
      "Win/lose count 12.5/1.0. Average score (9.0)\n",
      "Win/lose count 18.5/3.0. Average score (9.722222222222221)\n",
      "Win/lose count 20.5/2.0. Average score (10.6)\n",
      "Win/lose count 6.5/4.0. Average score (9.863636363636363)\n",
      "Win/lose count 10.5/4.0. Average score (9.583333333333334)\n",
      "Win/lose count 9.0/4.0. Average score (9.23076923076923)\n",
      "Win/lose count 11.5/2.0. Average score (9.25)\n",
      "Win/lose count 11.0/4.0. Average score (9.1)\n",
      "Final score: 9.1\n",
      "Test of the FC\n",
      "Win/lose count 9.5/3.0. Average score (6.5)\n",
      "Win/lose count 15.5/1.0. Average score (10.5)\n",
      "Win/lose count 5.5/3.0. Average score (7.833333333333333)\n",
      "Win/lose count 9.0/2.0. Average score (7.625)\n",
      "Win/lose count 8.5/5.0. Average score (6.8)\n",
      "Win/lose count 10.0/3.0. Average score (6.833333333333333)\n",
      "Win/lose count 11.0/2.0. Average score (7.142857142857143)\n",
      "Win/lose count 8.0/2.0. Average score (7.0)\n",
      "Win/lose count 4.0/1.0. Average score (6.555555555555555)\n",
      "Win/lose count 6.5/2.0. Average score (6.35)\n",
      "Win/lose count 13.5/3.0. Average score (6.7272727272727275)\n",
      "Win/lose count 6.5/3.0. Average score (6.458333333333333)\n",
      "Win/lose count 6.5/2.0. Average score (6.3076923076923075)\n",
      "Win/lose count 10.5/2.0. Average score (6.464285714285714)\n",
      "Win/lose count 21.5/3.0. Average score (7.266666666666667)\n",
      "Final score: 7.266666666666667\n"
     ]
    },
    {
     "data": {
      "text/plain": [
       "7.266666666666667"
      ]
     },
     "execution_count": 22,
     "metadata": {
      "tags": []
     },
     "output_type": "execute_result"
    }
   ],
   "source": [
    "env = Environment(grid_size=size, max_time=T,temperature=0.3)\n",
    "agent_cnn = DQN_CNN(size, lr=.1, epsilon = 0.1, memory_size=2000, batch_size = 32)\n",
    "agent_cnn.load(name_weights='cnn_trainmodel.h5',name_model='cnn_trainmodel.json')\n",
    "\n",
    "agent_fc = DQN_FC(size, lr=.1, epsilon = 0.1, memory_size=2000, batch_size = 32)\n",
    "agent_fc.load(name_weights='fc_trainmodel.h5',name_model='fc_trainmodel.json')\n",
    "print('Test of the CNN')\n",
    "test(agent_cnn,env,epochs_test,prefix='cnn_test')\n",
    "print('Test of the FC')\n",
    "test(agent_fc,env,epochs_test,prefix='fc_test')"
   ]
  },
  {
   "cell_type": "code",
   "execution_count": 23,
   "metadata": {
    "colab": {
     "base_uri": "https://localhost:8080/",
     "height": 293
    },
    "colab_type": "code",
    "id": "2gRq7sK5-Ohr",
    "outputId": "fc8f9fdc-23c3-4489-bf33-3a4076742562"
   },
   "outputs": [
    {
     "data": {
      "text/html": [
       "<video alt=\"test\" controls>\n",
       "                <source src=\"data:video/mp4;base64,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\" type=\"video/mp4\" />\n",
       "             </video>"
      ],
      "text/plain": [
       "<IPython.core.display.HTML object>"
      ]
     },
     "execution_count": 23,
     "metadata": {
      "tags": []
     },
     "output_type": "execute_result"
    }
   ],
   "source": [
    "HTML(display_videos('cnn_test10.mp4'))"
   ]
  },
  {
   "cell_type": "code",
   "execution_count": 24,
   "metadata": {
    "colab": {
     "base_uri": "https://localhost:8080/",
     "height": 293
    },
    "colab_type": "code",
    "id": "Pm_u_dMP-Ohv",
    "outputId": "542c1c50-be62-49de-99ad-c68c3d19059f"
   },
   "outputs": [
    {
     "data": {
      "text/html": [
       "<video alt=\"test\" controls>\n",
       "                <source src=\"data:video/mp4;base64,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\" type=\"video/mp4\" />\n",
       "             </video>"
      ],
      "text/plain": [
       "<IPython.core.display.HTML object>"
      ]
     },
     "execution_count": 24,
     "metadata": {
      "tags": []
     },
     "output_type": "execute_result"
    }
   ],
   "source": [
    "HTML(display_videos('fc_test10.mp4'))"
   ]
  },
  {
   "cell_type": "code",
   "execution_count": 25,
   "metadata": {
    "colab": {
     "base_uri": "https://localhost:8080/",
     "height": 319
    },
    "colab_type": "code",
    "id": "3HzcH2OM4-W6",
    "outputId": "919406e0-636e-47f6-dd3e-cc76f1510b94"
   },
   "outputs": [
    {
     "name": "stdout",
     "output_type": "stream",
     "text": [
      "Final score: 1.8333333333333333\n",
      "Final score: 2.6666666666666665\n",
      "Final score: 5.533333333333333\n",
      "Final score: 4.433333333333334\n",
      "Final score: 9.066666666666666\n",
      "Final score: 8.766666666666667\n",
      "Final score: 13.766666666666667\n",
      "Final score: 10.3\n",
      "Final score: 20.533333333333335\n",
      "Final score: 15.666666666666666\n",
      "Final score: 21.233333333333334\n",
      "Final score: 21.133333333333333\n",
      "Final score: 32.93333333333333\n",
      "Final score: 28.066666666666666\n",
      "Final score: 34.6\n",
      "Final score: 33.3\n",
      "Final score: 36.333333333333336\n",
      "Final score: 48.86666666666667\n"
     ]
    }
   ],
   "source": [
    "# we try here different temperature to compare results\n",
    "scores_cnn = {}\n",
    "scores_fc = {}\n",
    "agent_cnn = DQN_CNN(size, lr=.1, epsilon = 0.1, memory_size=2000, batch_size = 32)\n",
    "agent_cnn.load(name_weights='cnn_trainmodel.h5',name_model='cnn_trainmodel.json')\n",
    "\n",
    "agent_fc = DQN_FC(size, lr=.1, epsilon = 0.1, memory_size=2000, batch_size = 32)\n",
    "agent_fc.load(name_weights='fc_trainmodel.h5',name_model='fc_trainmodel.json')\n",
    "for t in [0.1,0.2,0.3,0.4,0.5,0.6,0.7,0.8,0.9]:\n",
    "  env = Environment(grid_size=size, max_time=T,temperature=t)\n",
    "  scores_cnn[t] = test(agent_cnn,env,epochs_test,prefix='cnn_test', printt = False)\n",
    "  scores_fc[t] = test(agent_fc,env,epochs_test,prefix='fc_test' , printt = False)"
   ]
  },
  {
   "cell_type": "code",
   "execution_count": 73,
   "metadata": {
    "colab": {
     "base_uri": "https://localhost:8080/",
     "height": 314
    },
    "colab_type": "code",
    "id": "L3aTM03v6hcc",
    "outputId": "fde87546-d51b-45ee-8456-305ea04f621b"
   },
   "outputs": [
    {
     "data": {
      "text/html": [
       "<div>\n",
       "<style scoped>\n",
       "    .dataframe tbody tr th:only-of-type {\n",
       "        vertical-align: middle;\n",
       "    }\n",
       "\n",
       "    .dataframe tbody tr th {\n",
       "        vertical-align: top;\n",
       "    }\n",
       "\n",
       "    .dataframe thead th {\n",
       "        text-align: right;\n",
       "    }\n",
       "</style>\n",
       "<table border=\"1\" class=\"dataframe\">\n",
       "  <thead>\n",
       "    <tr style=\"text-align: right;\">\n",
       "      <th></th>\n",
       "      <th>temperature</th>\n",
       "      <th>scores_fc</th>\n",
       "      <th>scores_cnn</th>\n",
       "    </tr>\n",
       "  </thead>\n",
       "  <tbody>\n",
       "    <tr>\n",
       "      <th>0</th>\n",
       "      <td>0.1</td>\n",
       "      <td>2.666667</td>\n",
       "      <td>1.833333</td>\n",
       "    </tr>\n",
       "    <tr>\n",
       "      <th>1</th>\n",
       "      <td>0.2</td>\n",
       "      <td>4.433333</td>\n",
       "      <td>5.533333</td>\n",
       "    </tr>\n",
       "    <tr>\n",
       "      <th>2</th>\n",
       "      <td>0.3</td>\n",
       "      <td>8.766667</td>\n",
       "      <td>9.066667</td>\n",
       "    </tr>\n",
       "    <tr>\n",
       "      <th>3</th>\n",
       "      <td>0.4</td>\n",
       "      <td>10.300000</td>\n",
       "      <td>13.766667</td>\n",
       "    </tr>\n",
       "    <tr>\n",
       "      <th>4</th>\n",
       "      <td>0.5</td>\n",
       "      <td>15.666667</td>\n",
       "      <td>20.533333</td>\n",
       "    </tr>\n",
       "    <tr>\n",
       "      <th>5</th>\n",
       "      <td>0.6</td>\n",
       "      <td>21.133333</td>\n",
       "      <td>21.233333</td>\n",
       "    </tr>\n",
       "    <tr>\n",
       "      <th>6</th>\n",
       "      <td>0.7</td>\n",
       "      <td>28.066667</td>\n",
       "      <td>32.933333</td>\n",
       "    </tr>\n",
       "    <tr>\n",
       "      <th>7</th>\n",
       "      <td>0.8</td>\n",
       "      <td>33.300000</td>\n",
       "      <td>34.600000</td>\n",
       "    </tr>\n",
       "    <tr>\n",
       "      <th>8</th>\n",
       "      <td>0.9</td>\n",
       "      <td>48.866667</td>\n",
       "      <td>36.333333</td>\n",
       "    </tr>\n",
       "  </tbody>\n",
       "</table>\n",
       "</div>"
      ],
      "text/plain": [
       "   temperature  scores_fc  scores_cnn\n",
       "0          0.1   2.666667    1.833333\n",
       "1          0.2   4.433333    5.533333\n",
       "2          0.3   8.766667    9.066667\n",
       "3          0.4  10.300000   13.766667\n",
       "4          0.5  15.666667   20.533333\n",
       "5          0.6  21.133333   21.233333\n",
       "6          0.7  28.066667   32.933333\n",
       "7          0.8  33.300000   34.600000\n",
       "8          0.9  48.866667   36.333333"
      ]
     },
     "execution_count": 73,
     "metadata": {
      "tags": []
     },
     "output_type": "execute_result"
    }
   ],
   "source": [
    "import pandas as pd\n",
    "scores_cnn # with respect to temperature\n",
    "df = pd.DataFrame(scores_fc.keys(), columns=['temperature'])\n",
    "df['scores_fc'] = scores_fc.values()\n",
    "df['scores_cnn'] = scores_cnn.values()\n",
    "df"
   ]
  },
  {
   "cell_type": "markdown",
   "metadata": {
    "colab_type": "text",
    "id": "KLYqXnJr-Oh3"
   },
   "source": [
    "We can see that in both case, the agent doesn't explore the map well and sometimes get struck in a region where there is no positive reward in his visibility.\n",
    "\n",
    "We can also deduce that the cnn model works well than the fully connected network. Since our intput is an image, it's more useful to use cnn\n",
    "\n",
    "We tested the algorithm for temperature in $\\{0.1,0.2,0.3,0.4,0.5,0.6,0.7,0.8,0.9\\}$ and we can see that the average score increase when the temperatur increase. For temperature greater, positive rewards cells become more numerous, which helps the agent to explore the map since more positive cells gets in his visibility."
   ]
  },
  {
   "cell_type": "markdown",
   "metadata": {
    "colab_type": "text",
    "id": "BhIOmeXe-Oh6"
   },
   "source": [
    "***\n",
    "\n",
    "The algorithm tends to not explore the map which can be an issue. We propose two ideas in order to encourage exploration:\n",
    "1. Incorporating a decreasing $\\epsilon$-greedy exploration. You can use the method ```set_epsilon```\n",
    "2. Append via the environment a new state that describes if a cell has been visited or not\n",
    "\n",
    "***\n",
    "__Question 10__ Design a new ```train_explore``` function and environment class ```EnvironmentExploring``` to tackle the issue of exploration.\n",
    "\n"
   ]
  },
  {
   "cell_type": "code",
   "execution_count": 0,
   "metadata": {
    "colab": {},
    "colab_type": "code",
    "id": "r6k1yjZz-Oh6"
   },
   "outputs": [],
   "source": [
    "def train_explore(agent,env,epoch,prefix=''):\n",
    "    #Number of won games\n",
    "    score = 0\n",
    "    loss = 0\n",
    "    \n",
    "    # Epsilon in the beginning of training\n",
    "    epsilon_0 = agent.epsilon\n",
    "    epsilon_final = 0.1\n",
    "    #step_eps = (epsilon_0-epsilon_final)/epoch\n",
    "\n",
    "    for e in range(epoch+1) :\n",
    "      # At each epoch, we restart to a fresh game and get the initial state\n",
    "      state = env.reset()\n",
    "      # This assumes that the games will terminate\n",
    "      game_over = False\n",
    "\n",
    "      win = 0\n",
    "      lose = 0\n",
    "      # Decay for epsilon-greedy exploration\n",
    "      k = 1/8\n",
    "      new_eps = epsilon_0/(1+k*e)\n",
    "      if new_eps > epsilon_final:\n",
    "        agent.set_epsilon(new_eps)\n",
    "      else :\n",
    "        agent.set_epsilon(epsilon_final) \n",
    "\n",
    "      while not game_over:\n",
    "            # The agent performs an action\n",
    "            action = agent.act(state)\n",
    "\n",
    "            # Apply an action to the environment, get the next state, the reward\n",
    "            # and if the games end\n",
    "            prev_state = state\n",
    "            state, reward, game_over = env.act(action, train=True)\n",
    "\n",
    "            # Update the counters\n",
    "            if reward > 0:\n",
    "                win = win + reward\n",
    "            if reward < 0:\n",
    "                lose = lose -reward\n",
    "\n",
    "            # Apply the reinforcement strategy\n",
    "            loss = agent.reinforce(prev_state, state,  action, reward, game_over)\n",
    "\n",
    "      \n",
    "      #new_eps = epsilon_0/(1+0.25*e)\n",
    "      #if new_eps > epsilon_final:\n",
    "        #agent.set_epsilon(new_eps)\n",
    "      #else :\n",
    "        #agent.set_epsilon(epsilon_final)  \n",
    "        # Save as a mp4\n",
    "      if e % 10 == 0:\n",
    "          env.draw(prefix+str(e))\n",
    "\n",
    "        # Update stats\n",
    "      score += win-lose\n",
    "\n",
    "      print(\"Epsilon {:.4f} | Epoch {:03d}/{:03d} | Loss {:.4f} | Win/lose count {}/{} ({})\"\n",
    "              .format(agent.epsilon, e, epoch, loss, win, lose, win-lose))\n",
    "      agent.save(name_weights=prefix+'new_model.h5',name_model=prefix+'new_model.json')\n",
    "\n",
    "class EnvironmentExploring(object):\n",
    "    def __init__(self, grid_size=10, max_time=500, temperature=0.1):\n",
    "\n",
    "        grid_size = grid_size+4\n",
    "        self.grid_size = grid_size\n",
    "        self.max_time = max_time\n",
    "        self.temperature = temperature\n",
    "\n",
    "        #board on which one plays\n",
    "        self.board = np.zeros((grid_size,grid_size))\n",
    "        self.position = np.zeros((grid_size,grid_size))\n",
    "        self.malus_position = np.zeros((grid_size,grid_size))\n",
    "        # coordinate of the cat\n",
    "        self.x = 0\n",
    "        self.y = 1\n",
    "\n",
    "        # self time\n",
    "        self.t = 0\n",
    "\n",
    "        self.scale=16\n",
    "\n",
    "        self.to_draw = np.zeros((max_time+2, grid_size*self.scale, grid_size*self.scale, 3))\n",
    "\n",
    "\n",
    "    def draw(self,e):\n",
    "        skvideo.io.vwrite(str(e) + '.mp4', self.to_draw)\n",
    "\n",
    "    def get_frame(self,t):\n",
    "        b = np.zeros((self.grid_size,self.grid_size,3))+128\n",
    "        b[self.board>0,0] = 256\n",
    "        b[self.board < 0, 2] = 256\n",
    "        b[self.x,self.y,:]=256\n",
    "        b[-2:,:,:]=0\n",
    "        b[:,-2:,:]=0\n",
    "        b[:2,:,:]=0\n",
    "        b[:,:2,:]=0\n",
    "        \n",
    "        b =  cv2.resize(b, None, fx=self.scale, fy=self.scale, interpolation=cv2.INTER_NEAREST)\n",
    "\n",
    "        self.to_draw[t,:,:,:]=b\n",
    "\n",
    "\n",
    "    def act(self, action, train=False):\n",
    "        \"\"\"This function returns the new state, reward and decides if the\n",
    "        game ends.\"\"\"\n",
    "\n",
    "        self.get_frame(int(self.t))\n",
    "\n",
    "        self.position = np.zeros((self.grid_size, self.grid_size))\n",
    "\n",
    "        self.position[0:2,:]= -1\n",
    "        self.position[:,0:2] = -1\n",
    "        self.position[-2:, :] = -1\n",
    "        self.position[-2:, :] = -1\n",
    "\n",
    "        self.position[self.x, self.y] = 1\n",
    "        if action == 0:\n",
    "            if self.x == self.grid_size-3:\n",
    "                self.x = self.x-1\n",
    "            else:\n",
    "                self.x = self.x + 1\n",
    "        elif action == 1:\n",
    "            if self.x == 2:\n",
    "                self.x = self.x+1\n",
    "            else:\n",
    "                self.x = self.x-1\n",
    "        elif action == 2:\n",
    "            if self.y == self.grid_size - 3:\n",
    "                self.y = self.y - 1\n",
    "            else:\n",
    "                self.y = self.y + 1\n",
    "        elif action == 3:\n",
    "            if self.y == 2:\n",
    "                self.y = self.y + 1\n",
    "            else:\n",
    "                self.y = self.y - 1\n",
    "        else:\n",
    "            RuntimeError('Error: action not recognized')\n",
    "\n",
    "        self.t = self.t + 1\n",
    "        ## In Environment exploring:\n",
    "        # You will have to change n_state to 3 because you will use one more layer!\n",
    "        reward = 0\n",
    "        self.malus_position[self.x, self.y] = 0.1\n",
    "        if train:\n",
    "          reward = -self.malus_position[self.x, self.y]\n",
    "\n",
    "        reward +=  self.board[self.x, self.y]\n",
    "        self.board[self.x, self.y] = 0\n",
    "        game_over = self.t > self.max_time\n",
    "        # 3 \"feature\" states instead of 2\n",
    "        state = np.concatenate((self.malus_position.reshape(self.grid_size, self.grid_size,1),\n",
    "                                self.board.reshape(self.grid_size, self.grid_size,1),\n",
    "                        self.position.reshape(self.grid_size, self.grid_size,1)),axis=2)\n",
    "\n",
    "        state = state[self.x-2:self.x+3,self.y-2:self.y+3,:]\n",
    "\n",
    "        return state, reward, game_over\n",
    "\n",
    "    def reset(self):\n",
    "        \"\"\"This function resets the game and returns the initial state\"\"\"\n",
    "\n",
    "        self.x = np.random.randint(3, self.grid_size-3, size=1)[0]\n",
    "        self.y = np.random.randint(3, self.grid_size-3, size=1)[0]\n",
    "        self.malus_position = np.zeros((self.grid_size, self.grid_size))\n",
    "\n",
    "        bonus = 0.5*np.random.binomial(1,self.temperature,size=self.grid_size**2)\n",
    "        bonus = bonus.reshape(self.grid_size,self.grid_size)\n",
    "\n",
    "        malus = -1.0*np.random.binomial(1,self.temperature,size=self.grid_size**2)\n",
    "        malus = malus.reshape(self.grid_size, self.grid_size)\n",
    "\n",
    "        self.to_draw = np.zeros((self.max_time+2, self.grid_size*self.scale, self.grid_size*self.scale, 3))\n",
    "\n",
    "\n",
    "        malus[bonus>0]=0\n",
    "\n",
    "        self.board = bonus + malus\n",
    "\n",
    "        self.position = np.zeros((self.grid_size, self.grid_size))\n",
    "        self.position[0:2,:]= -1\n",
    "        self.position[:,0:2] = -1\n",
    "        self.position[-2:, :] = -1\n",
    "        self.position[-2:, :] = -1\n",
    "        self.board[self.x,self.y] = 0\n",
    "        self.malus_position[self.x, self.y] = 0.1\n",
    "        self.t = 0\n",
    "\n",
    "        state = np.concatenate((self.malus_position.reshape(self.grid_size, self.grid_size,1),\n",
    "                                self.board.reshape(self.grid_size, self.grid_size,1),\n",
    "                        self.position.reshape(self.grid_size, self.grid_size,1)),axis=2)\n",
    "\n",
    "        state = state[self.x - 2:self.x + 3, self.y - 2:self.y + 3, :]\n",
    "        return state\n",
    "    "
   ]
  },
  {
   "cell_type": "code",
   "execution_count": 111,
   "metadata": {
    "colab": {
     "base_uri": "https://localhost:8080/",
     "height": 1000
    },
    "colab_type": "code",
    "id": "LePsflMGZb-K",
    "outputId": "2700974e-8387-4e12-b6eb-cfe8acbae2ec"
   },
   "outputs": [
    {
     "name": "stdout",
     "output_type": "stream",
     "text": [
      "Epsilon 0.7000 | Epoch 000/090 | Loss 0.0179 | Win/lose count 6.000000000000001/31.60000000000008 (-25.60000000000008)\n",
      "Epsilon 0.6222 | Epoch 001/090 | Loss 0.0175 | Win/lose count 3.9999999999999996/25.10000000000008 (-21.10000000000008)\n",
      "Epsilon 0.5600 | Epoch 002/090 | Loss 0.0091 | Win/lose count 9.200000000000003/25.800000000000047 (-16.600000000000044)\n",
      "Epsilon 0.5091 | Epoch 003/090 | Loss 0.0078 | Win/lose count 9.200000000000003/25.800000000000047 (-16.600000000000044)\n",
      "Epsilon 0.4667 | Epoch 004/090 | Loss 0.0237 | Win/lose count 6.400000000000001/26.500000000000124 (-20.100000000000122)\n",
      "Epsilon 0.4308 | Epoch 005/090 | Loss 0.0146 | Win/lose count 7.200000000000002/24.30000000000007 (-17.10000000000007)\n",
      "Epsilon 0.4000 | Epoch 006/090 | Loss 0.0138 | Win/lose count 10.400000000000004/25.500000000000032 (-15.100000000000028)\n",
      "Epsilon 0.3733 | Epoch 007/090 | Loss 0.0133 | Win/lose count 10.000000000000004/26.600000000000065 (-16.600000000000062)\n",
      "Epsilon 0.3500 | Epoch 008/090 | Loss 0.0169 | Win/lose count 8.000000000000002/26.100000000000083 (-18.10000000000008)\n",
      "Epsilon 0.3294 | Epoch 009/090 | Loss 0.0161 | Win/lose count 6.400000000000001/24.500000000000075 (-18.100000000000072)\n",
      "Epsilon 0.3111 | Epoch 010/090 | Loss 0.0082 | Win/lose count 9.200000000000003/22.800000000000068 (-13.600000000000065)\n",
      "Epsilon 0.2947 | Epoch 011/090 | Loss 0.0051 | Win/lose count 5.2/29.800000000000082 (-24.600000000000083)\n",
      "Epsilon 0.2800 | Epoch 012/090 | Loss 0.0136 | Win/lose count 8.000000000000002/24.10000000000008 (-16.10000000000008)\n",
      "Epsilon 0.2667 | Epoch 013/090 | Loss 0.0139 | Win/lose count 13.200000000000006/22.800000000000054 (-9.600000000000048)\n",
      "Epsilon 0.2545 | Epoch 014/090 | Loss 0.0089 | Win/lose count 17.6/22.700000000000074 (-5.1000000000000725)\n",
      "Epsilon 0.2435 | Epoch 015/090 | Loss 0.0055 | Win/lose count 6.400000000000001/20.500000000000025 (-14.100000000000023)\n",
      "Epsilon 0.2333 | Epoch 016/090 | Loss 0.0056 | Win/lose count 12.000000000000005/24.10000000000004 (-12.100000000000035)\n",
      "Epsilon 0.2240 | Epoch 017/090 | Loss 0.0052 | Win/lose count 10.400000000000004/22.500000000000064 (-12.10000000000006)\n",
      "Epsilon 0.2154 | Epoch 018/090 | Loss 0.0097 | Win/lose count 8.000000000000002/20.100000000000023 (-12.100000000000021)\n",
      "Epsilon 0.2074 | Epoch 019/090 | Loss 0.0167 | Win/lose count 11.600000000000005/19.199999999999992 (-7.599999999999987)\n",
      "Epsilon 0.2000 | Epoch 020/090 | Loss 0.0082 | Win/lose count 7.600000000000002/24.200000000000074 (-16.600000000000072)\n",
      "Epsilon 0.1931 | Epoch 021/090 | Loss 0.0145 | Win/lose count 5.6000000000000005/20.700000000000024 (-15.100000000000023)\n",
      "Epsilon 0.1867 | Epoch 022/090 | Loss 0.0087 | Win/lose count 7.600000000000002/20.199999999999992 (-12.59999999999999)\n",
      "Epsilon 0.1806 | Epoch 023/090 | Loss 0.0158 | Win/lose count 11.600000000000005/19.200000000000006 (-7.600000000000001)\n",
      "Epsilon 0.1750 | Epoch 024/090 | Loss 0.0133 | Win/lose count 11.600000000000005/23.200000000000063 (-11.600000000000058)\n",
      "Epsilon 0.1697 | Epoch 025/090 | Loss 0.0101 | Win/lose count 12.400000000000006/22.000000000000018 (-9.600000000000012)\n",
      "Epsilon 0.1647 | Epoch 026/090 | Loss 0.0106 | Win/lose count 13.600000000000007/18.7 (-5.0999999999999925)\n",
      "Epsilon 0.1600 | Epoch 027/090 | Loss 0.0041 | Win/lose count 11.200000000000005/18.29999999999999 (-7.099999999999985)\n",
      "Epsilon 0.1556 | Epoch 028/090 | Loss 0.0101 | Win/lose count 16.000000000000007/20.100000000000026 (-4.100000000000019)\n",
      "Epsilon 0.1514 | Epoch 029/090 | Loss 0.0192 | Win/lose count 17.200000000000003/15.79999999999996 (1.400000000000043)\n",
      "Epsilon 0.1474 | Epoch 030/090 | Loss 0.0111 | Win/lose count 16.800000000000004/18.900000000000006 (-2.1000000000000014)\n",
      "Epsilon 0.1436 | Epoch 031/090 | Loss 0.0088 | Win/lose count 8.800000000000002/20.900000000000034 (-12.100000000000032)\n",
      "Epsilon 0.1400 | Epoch 032/090 | Loss 0.0068 | Win/lose count 12.000000000000005/21.10000000000001 (-9.100000000000003)\n",
      "Epsilon 0.1366 | Epoch 033/090 | Loss 0.0140 | Win/lose count 14.000000000000007/18.6 (-4.599999999999994)\n",
      "Epsilon 0.1333 | Epoch 034/090 | Loss 0.0196 | Win/lose count 5.6000000000000005/20.700000000000014 (-15.100000000000012)\n",
      "Epsilon 0.1302 | Epoch 035/090 | Loss 0.0089 | Win/lose count 14.000000000000007/24.60000000000007 (-10.600000000000062)\n",
      "Epsilon 0.1273 | Epoch 036/090 | Loss 0.0113 | Win/lose count 8.800000000000002/17.899999999999984 (-9.099999999999982)\n",
      "Epsilon 0.1244 | Epoch 037/090 | Loss 0.0174 | Win/lose count 6.800000000000002/22.400000000000045 (-15.600000000000044)\n",
      "Epsilon 0.1217 | Epoch 038/090 | Loss 0.0158 | Win/lose count 3.1999999999999997/22.300000000000058 (-19.10000000000006)\n",
      "Epsilon 0.1191 | Epoch 039/090 | Loss 0.0101 | Win/lose count 16.000000000000007/17.099999999999973 (-1.099999999999966)\n",
      "Epsilon 0.1167 | Epoch 040/090 | Loss 0.0130 | Win/lose count 10.000000000000004/19.600000000000016 (-9.600000000000012)\n",
      "Epsilon 0.1143 | Epoch 041/090 | Loss 0.0113 | Win/lose count 7.200000000000002/21.300000000000043 (-14.10000000000004)\n",
      "Epsilon 0.1120 | Epoch 042/090 | Loss 0.0095 | Win/lose count 12.000000000000005/21.100000000000037 (-9.100000000000032)\n",
      "Epsilon 0.1098 | Epoch 043/090 | Loss 0.0172 | Win/lose count 13.600000000000007/18.7 (-5.0999999999999925)\n",
      "Epsilon 0.1077 | Epoch 044/090 | Loss 0.0076 | Win/lose count 15.600000000000009/19.20000000000001 (-3.6000000000000014)\n",
      "Epsilon 0.1057 | Epoch 045/090 | Loss 0.0108 | Win/lose count 3.1999999999999997/22.300000000000058 (-19.10000000000006)\n",
      "Epsilon 0.1037 | Epoch 046/090 | Loss 0.0108 | Win/lose count 11.200000000000005/18.299999999999994 (-7.099999999999989)\n",
      "Epsilon 0.1018 | Epoch 047/090 | Loss 0.0092 | Win/lose count 12.400000000000006/16.99999999999997 (-4.599999999999966)\n",
      "Epsilon 0.1000 | Epoch 048/090 | Loss 0.0079 | Win/lose count 9.200000000000003/18.8 (-9.599999999999998)\n",
      "Epsilon 0.1000 | Epoch 049/090 | Loss 0.0187 | Win/lose count 12.000000000000005/18.09999999999999 (-6.099999999999985)\n",
      "Epsilon 0.1000 | Epoch 050/090 | Loss 0.0090 | Win/lose count 16.000000000000007/18.09999999999999 (-2.0999999999999837)\n",
      "Epsilon 0.1000 | Epoch 051/090 | Loss 0.0176 | Win/lose count 11.200000000000005/18.299999999999994 (-7.099999999999989)\n",
      "Epsilon 0.1000 | Epoch 052/090 | Loss 0.0155 | Win/lose count 7.200000000000002/20.30000000000002 (-13.100000000000016)\n",
      "Epsilon 0.1000 | Epoch 053/090 | Loss 0.0100 | Win/lose count 8.400000000000002/19.000000000000004 (-10.600000000000001)\n",
      "Epsilon 0.1000 | Epoch 054/090 | Loss 0.0060 | Win/lose count 15.200000000000008/18.299999999999994 (-3.0999999999999854)\n",
      "Epsilon 0.1000 | Epoch 055/090 | Loss 0.0090 | Win/lose count 10.800000000000004/19.399999999999995 (-8.59999999999999)\n",
      "Epsilon 0.1000 | Epoch 056/090 | Loss 0.0065 | Win/lose count 3.5999999999999996/19.200000000000003 (-15.600000000000003)\n",
      "Epsilon 0.1000 | Epoch 057/090 | Loss 0.0165 | Win/lose count 7.200000000000002/19.300000000000008 (-12.100000000000005)\n",
      "Epsilon 0.1000 | Epoch 058/090 | Loss 0.0085 | Win/lose count 4.8/18.9 (-14.099999999999998)\n",
      "Epsilon 0.1000 | Epoch 059/090 | Loss 0.0178 | Win/lose count 14.400000000000007/18.499999999999993 (-4.099999999999985)\n",
      "Epsilon 0.1000 | Epoch 060/090 | Loss 0.0127 | Win/lose count 12.000000000000005/19.100000000000005 (-7.1)\n",
      "Epsilon 0.1000 | Epoch 061/090 | Loss 0.0162 | Win/lose count 16.800000000000004/18.90000000000001 (-2.100000000000005)\n",
      "Epsilon 0.1000 | Epoch 062/090 | Loss 0.0061 | Win/lose count 8.400000000000002/20.00000000000002 (-11.60000000000002)\n",
      "Epsilon 0.1000 | Epoch 063/090 | Loss 0.0082 | Win/lose count 13.600000000000007/18.7 (-5.0999999999999925)\n",
      "Epsilon 0.1000 | Epoch 064/090 | Loss 0.0151 | Win/lose count 11.200000000000005/18.29999999999999 (-7.099999999999985)\n",
      "Epsilon 0.1000 | Epoch 065/090 | Loss 0.0079 | Win/lose count 10.800000000000004/18.399999999999988 (-7.599999999999984)\n",
      "Epsilon 0.1000 | Epoch 066/090 | Loss 0.0161 | Win/lose count 3.5999999999999996/20.20000000000002 (-16.600000000000023)\n",
      "Epsilon 0.1000 | Epoch 067/090 | Loss 0.0076 | Win/lose count 16.000000000000007/21.100000000000037 (-5.10000000000003)\n",
      "Epsilon 0.1000 | Epoch 068/090 | Loss 0.0145 | Win/lose count 5.2/19.80000000000001 (-14.600000000000012)\n",
      "Epsilon 0.1000 | Epoch 069/090 | Loss 0.0174 | Win/lose count 17.200000000000003/16.79999999999997 (0.4000000000000341)\n",
      "Epsilon 0.1000 | Epoch 070/090 | Loss 0.0132 | Win/lose count 12.400000000000006/19.000000000000004 (-6.599999999999998)\n",
      "Epsilon 0.1000 | Epoch 071/090 | Loss 0.0140 | Win/lose count 12.800000000000006/17.899999999999984 (-5.099999999999978)\n",
      "Epsilon 0.1000 | Epoch 072/090 | Loss 0.0088 | Win/lose count 14.000000000000007/17.59999999999998 (-3.599999999999973)\n",
      "Epsilon 0.1000 | Epoch 073/090 | Loss 0.0257 | Win/lose count 15.600000000000009/18.19999999999999 (-2.59999999999998)\n",
      "Epsilon 0.1000 | Epoch 074/090 | Loss 0.0094 | Win/lose count 4.8/21.900000000000052 (-17.10000000000005)\n",
      "Epsilon 0.1000 | Epoch 075/090 | Loss 0.0243 | Win/lose count 15.600000000000009/17.199999999999978 (-1.5999999999999694)\n",
      "Epsilon 0.1000 | Epoch 076/090 | Loss 0.0097 | Win/lose count 5.6000000000000005/19.699999999999996 (-14.099999999999994)\n",
      "Epsilon 0.1000 | Epoch 077/090 | Loss 0.0161 | Win/lose count 9.200000000000003/19.800000000000015 (-10.600000000000012)\n",
      "Epsilon 0.1000 | Epoch 078/090 | Loss 0.0328 | Win/lose count 9.600000000000003/20.70000000000003 (-11.100000000000028)\n",
      "Epsilon 0.1000 | Epoch 079/090 | Loss 0.0240 | Win/lose count 13.600000000000007/18.69999999999998 (-5.099999999999975)\n",
      "Epsilon 0.1000 | Epoch 080/090 | Loss 0.0119 | Win/lose count 15.200000000000008/18.299999999999994 (-3.0999999999999854)\n",
      "Epsilon 0.1000 | Epoch 081/090 | Loss 0.0117 | Win/lose count 14.000000000000007/17.599999999999984 (-3.5999999999999766)\n",
      "Epsilon 0.1000 | Epoch 082/090 | Loss 0.0118 | Win/lose count 3.5999999999999996/19.200000000000003 (-15.600000000000003)\n",
      "Epsilon 0.1000 | Epoch 083/090 | Loss 0.0116 | Win/lose count 14.000000000000007/18.599999999999998 (-4.599999999999991)\n",
      "Epsilon 0.1000 | Epoch 084/090 | Loss 0.0184 | Win/lose count 13.200000000000006/16.79999999999997 (-3.5999999999999623)\n",
      "Epsilon 0.1000 | Epoch 085/090 | Loss 0.0344 | Win/lose count 7.200000000000002/19.300000000000008 (-12.100000000000005)\n",
      "Epsilon 0.1000 | Epoch 086/090 | Loss 0.0213 | Win/lose count 15.200000000000008/23.30000000000005 (-8.100000000000042)\n",
      "Epsilon 0.1000 | Epoch 087/090 | Loss 0.0148 | Win/lose count 11.200000000000005/21.300000000000026 (-10.100000000000021)\n",
      "Epsilon 0.1000 | Epoch 088/090 | Loss 0.0208 | Win/lose count 14.400000000000007/18.499999999999996 (-4.099999999999989)\n",
      "Epsilon 0.1000 | Epoch 089/090 | Loss 0.0130 | Win/lose count 10.000000000000004/18.599999999999987 (-8.599999999999984)\n",
      "Epsilon 0.1000 | Epoch 090/090 | Loss 0.0264 | Win/lose count 19.599999999999994/20.200000000000017 (-0.6000000000000227)\n"
     ]
    },
    {
     "data": {
      "text/html": [
       "<video alt=\"test\" controls>\n",
       "                <source src=\"data:video/mp4;base64,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\" type=\"video/mp4\" />\n",
       "             </video>"
      ],
      "text/plain": [
       "<IPython.core.display.HTML object>"
      ]
     },
     "execution_count": 111,
     "metadata": {
      "tags": []
     },
     "output_type": "execute_result"
    }
   ],
   "source": [
    "# Training DQN_FC\n",
    "epochs_train = 90\n",
    "env = EnvironmentExploring(grid_size=size, max_time=T, temperature=0.3)\n",
    "agent_fc = DQN_FC(size, lr=.1, epsilon = 0.7, memory_size=2000, batch_size = 32,n_state=3)\n",
    "train_explore(agent_fc, env, epochs_train, prefix='fc_train_explore')\n",
    "HTML(display_videos('fc_train_explore80.mp4'))"
   ]
  },
  {
   "cell_type": "code",
   "execution_count": 112,
   "metadata": {
    "colab": {
     "base_uri": "https://localhost:8080/",
     "height": 1000
    },
    "colab_type": "code",
    "id": "4l3UOx44-Oh_",
    "outputId": "fc4b5665-a6d5-490f-89c6-7f07ee40a0f0"
   },
   "outputs": [
    {
     "name": "stdout",
     "output_type": "stream",
     "text": [
      "Epsilon 0.7000 | Epoch 000/090 | Loss 0.0174 | Win/lose count 8.800000000000002/37.900000000000155 (-29.10000000000015)\n",
      "Epsilon 0.6222 | Epoch 001/090 | Loss 0.0084 | Win/lose count 7.200000000000002/23.30000000000006 (-16.10000000000006)\n",
      "Epsilon 0.5600 | Epoch 002/090 | Loss 0.0097 | Win/lose count 10.000000000000004/23.600000000000055 (-13.600000000000051)\n",
      "Epsilon 0.5091 | Epoch 003/090 | Loss 0.0100 | Win/lose count 14.000000000000007/33.600000000000094 (-19.600000000000087)\n",
      "Epsilon 0.4667 | Epoch 004/090 | Loss 0.0052 | Win/lose count 5.6000000000000005/23.70000000000005 (-18.100000000000048)\n",
      "Epsilon 0.4308 | Epoch 005/090 | Loss 0.0041 | Win/lose count 10.800000000000004/26.400000000000084 (-15.60000000000008)\n",
      "Epsilon 0.4000 | Epoch 006/090 | Loss 0.0390 | Win/lose count 11.600000000000005/22.20000000000002 (-10.600000000000016)\n",
      "Epsilon 0.3733 | Epoch 007/090 | Loss 0.0059 | Win/lose count 12.400000000000006/24.00000000000004 (-11.600000000000033)\n",
      "Epsilon 0.3500 | Epoch 008/090 | Loss 0.0061 | Win/lose count 11.600000000000005/23.200000000000077 (-11.600000000000072)\n",
      "Epsilon 0.3294 | Epoch 009/090 | Loss 0.0061 | Win/lose count 15.200000000000008/25.30000000000008 (-10.10000000000007)\n",
      "Epsilon 0.3111 | Epoch 010/090 | Loss 0.0047 | Win/lose count 15.600000000000009/29.20000000000006 (-13.600000000000051)\n",
      "Epsilon 0.2947 | Epoch 011/090 | Loss 0.0062 | Win/lose count 6.400000000000001/23.50000000000006 (-17.10000000000006)\n",
      "Epsilon 0.2800 | Epoch 012/090 | Loss 0.0113 | Win/lose count 14.000000000000007/20.600000000000016 (-6.6000000000000085)\n",
      "Epsilon 0.2667 | Epoch 013/090 | Loss 0.0071 | Win/lose count 21.999999999999986/22.600000000000037 (-0.6000000000000512)\n",
      "Epsilon 0.2545 | Epoch 014/090 | Loss 0.0139 | Win/lose count 16.000000000000007/28.10000000000008 (-12.100000000000072)\n",
      "Epsilon 0.2435 | Epoch 015/090 | Loss 0.0337 | Win/lose count 14.000000000000007/20.6 (-6.599999999999994)\n",
      "Epsilon 0.2333 | Epoch 016/090 | Loss 0.0082 | Win/lose count 11.600000000000005/23.200000000000074 (-11.600000000000069)\n",
      "Epsilon 0.2240 | Epoch 017/090 | Loss 0.0099 | Win/lose count 12.800000000000006/21.900000000000027 (-9.100000000000021)\n",
      "Epsilon 0.2154 | Epoch 018/090 | Loss 0.0068 | Win/lose count 16.800000000000004/18.900000000000006 (-2.1000000000000014)\n",
      "Epsilon 0.2074 | Epoch 019/090 | Loss 0.0140 | Win/lose count 16.800000000000004/22.90000000000004 (-6.100000000000037)\n",
      "Epsilon 0.2000 | Epoch 020/090 | Loss 0.0184 | Win/lose count 15.200000000000008/20.300000000000015 (-5.100000000000007)\n",
      "Epsilon 0.1931 | Epoch 021/090 | Loss 0.0104 | Win/lose count 14.400000000000007/23.50000000000005 (-9.100000000000042)\n",
      "Epsilon 0.1867 | Epoch 022/090 | Loss 0.0144 | Win/lose count 15.600000000000009/21.200000000000028 (-5.600000000000019)\n",
      "Epsilon 0.1806 | Epoch 023/090 | Loss 0.0191 | Win/lose count 17.6/18.700000000000003 (-1.1000000000000014)\n",
      "Epsilon 0.1750 | Epoch 024/090 | Loss 0.0213 | Win/lose count 17.200000000000003/18.799999999999983 (-1.59999999999998)\n",
      "Epsilon 0.1697 | Epoch 025/090 | Loss 0.0109 | Win/lose count 16.400000000000006/29.00000000000011 (-12.600000000000104)\n",
      "Epsilon 0.1647 | Epoch 026/090 | Loss 0.0164 | Win/lose count 16.000000000000007/20.100000000000023 (-4.100000000000016)\n",
      "Epsilon 0.1600 | Epoch 027/090 | Loss 0.0050 | Win/lose count 17.200000000000003/20.800000000000008 (-3.600000000000005)\n",
      "Epsilon 0.1556 | Epoch 028/090 | Loss 0.0274 | Win/lose count 15.600000000000009/21.20000000000003 (-5.600000000000023)\n",
      "Epsilon 0.1514 | Epoch 029/090 | Loss 0.0154 | Win/lose count 16.400000000000006/17.99999999999999 (-1.5999999999999837)\n",
      "Epsilon 0.1474 | Epoch 030/090 | Loss 0.0151 | Win/lose count 14.400000000000007/22.500000000000018 (-8.10000000000001)\n",
      "Epsilon 0.1436 | Epoch 031/090 | Loss 0.0140 | Win/lose count 15.600000000000009/22.200000000000045 (-6.600000000000037)\n",
      "Epsilon 0.1400 | Epoch 032/090 | Loss 0.0074 | Win/lose count 12.000000000000005/20.10000000000002 (-8.100000000000014)\n",
      "Epsilon 0.1366 | Epoch 033/090 | Loss 0.0309 | Win/lose count 14.800000000000008/20.400000000000016 (-5.6000000000000085)\n",
      "Epsilon 0.1333 | Epoch 034/090 | Loss 0.0193 | Win/lose count 21.19999999999999/18.799999999999997 (2.3999999999999915)\n",
      "Epsilon 0.1302 | Epoch 035/090 | Loss 0.0285 | Win/lose count 15.600000000000009/21.200000000000028 (-5.600000000000019)\n",
      "Epsilon 0.1273 | Epoch 036/090 | Loss 0.0131 | Win/lose count 14.400000000000007/21.500000000000032 (-7.1000000000000245)\n",
      "Epsilon 0.1244 | Epoch 037/090 | Loss 0.0121 | Win/lose count 16.800000000000004/19.89999999999999 (-3.099999999999987)\n",
      "Epsilon 0.1217 | Epoch 038/090 | Loss 0.0229 | Win/lose count 17.6/18.699999999999992 (-1.0999999999999908)\n",
      "Epsilon 0.1191 | Epoch 039/090 | Loss 0.0359 | Win/lose count 10.000000000000004/21.600000000000023 (-11.60000000000002)\n",
      "Epsilon 0.1167 | Epoch 040/090 | Loss 0.0078 | Win/lose count 19.199999999999996/18.299999999999997 (0.8999999999999986)\n",
      "Epsilon 0.1143 | Epoch 041/090 | Loss 0.0147 | Win/lose count 17.200000000000003/18.799999999999986 (-1.5999999999999837)\n",
      "Epsilon 0.1120 | Epoch 042/090 | Loss 0.0394 | Win/lose count 15.200000000000008/20.300000000000008 (-5.1)\n",
      "Epsilon 0.1098 | Epoch 043/090 | Loss 0.0088 | Win/lose count 14.800000000000008/18.39999999999998 (-3.599999999999973)\n",
      "Epsilon 0.1077 | Epoch 044/090 | Loss 0.0123 | Win/lose count 18.0/20.60000000000002 (-2.600000000000019)\n",
      "Epsilon 0.1057 | Epoch 045/090 | Loss 0.0228 | Win/lose count 10.800000000000004/19.399999999999995 (-8.59999999999999)\n",
      "Epsilon 0.1037 | Epoch 046/090 | Loss 0.0076 | Win/lose count 19.599999999999994/18.199999999999974 (1.40000000000002)\n",
      "Epsilon 0.1018 | Epoch 047/090 | Loss 0.0085 | Win/lose count 14.000000000000007/23.60000000000007 (-9.600000000000062)\n",
      "Epsilon 0.1000 | Epoch 048/090 | Loss 0.0120 | Win/lose count 6.800000000000002/19.400000000000006 (-12.600000000000005)\n",
      "Epsilon 0.1000 | Epoch 049/090 | Loss 0.0102 | Win/lose count 17.200000000000003/24.800000000000075 (-7.6000000000000725)\n",
      "Epsilon 0.1000 | Epoch 050/090 | Loss 0.0166 | Win/lose count 16.400000000000006/19.000000000000007 (-2.6000000000000014)\n",
      "Epsilon 0.1000 | Epoch 051/090 | Loss 0.0109 | Win/lose count 12.400000000000006/17.99999999999999 (-5.599999999999984)\n",
      "Epsilon 0.1000 | Epoch 052/090 | Loss 0.0189 | Win/lose count 12.000000000000005/19.100000000000005 (-7.1)\n",
      "Epsilon 0.1000 | Epoch 053/090 | Loss 0.0112 | Win/lose count 12.400000000000006/16.99999999999997 (-4.599999999999966)\n",
      "Epsilon 0.1000 | Epoch 054/090 | Loss 0.0070 | Win/lose count 18.0/16.59999999999997 (1.4000000000000306)\n",
      "Epsilon 0.1000 | Epoch 055/090 | Loss 0.0160 | Win/lose count 13.200000000000006/21.80000000000005 (-8.600000000000044)\n",
      "Epsilon 0.1000 | Epoch 056/090 | Loss 0.0294 | Win/lose count 18.0/18.599999999999984 (-0.5999999999999837)\n",
      "Epsilon 0.1000 | Epoch 057/090 | Loss 0.0355 | Win/lose count 14.800000000000008/18.39999999999998 (-3.599999999999973)\n",
      "Epsilon 0.1000 | Epoch 058/090 | Loss 0.0097 | Win/lose count 9.200000000000003/19.800000000000004 (-10.600000000000001)\n",
      "Epsilon 0.1000 | Epoch 059/090 | Loss 0.0115 | Win/lose count 14.800000000000008/20.400000000000013 (-5.600000000000005)\n",
      "Epsilon 0.1000 | Epoch 060/090 | Loss 0.0095 | Win/lose count 14.800000000000008/19.400000000000013 (-4.600000000000005)\n",
      "Epsilon 0.1000 | Epoch 061/090 | Loss 0.0130 | Win/lose count 16.000000000000007/21.100000000000044 (-5.100000000000037)\n",
      "Epsilon 0.1000 | Epoch 062/090 | Loss 0.0130 | Win/lose count 15.600000000000009/19.200000000000003 (-3.5999999999999943)\n",
      "Epsilon 0.1000 | Epoch 063/090 | Loss 0.0109 | Win/lose count 19.199999999999996/20.300000000000022 (-1.1000000000000263)\n",
      "Epsilon 0.1000 | Epoch 064/090 | Loss 0.0206 | Win/lose count 16.000000000000007/22.10000000000004 (-6.100000000000033)\n",
      "Epsilon 0.1000 | Epoch 065/090 | Loss 0.0178 | Win/lose count 15.200000000000008/24.30000000000006 (-9.100000000000053)\n",
      "Epsilon 0.1000 | Epoch 066/090 | Loss 0.0149 | Win/lose count 15.600000000000009/19.20000000000001 (-3.6000000000000014)\n",
      "Epsilon 0.1000 | Epoch 067/090 | Loss 0.0194 | Win/lose count 20.39999999999999/20.00000000000001 (0.3999999999999808)\n",
      "Epsilon 0.1000 | Epoch 068/090 | Loss 0.0062 | Win/lose count 15.200000000000008/23.30000000000006 (-8.100000000000053)\n",
      "Epsilon 0.1000 | Epoch 069/090 | Loss 0.0180 | Win/lose count 13.200000000000006/22.80000000000004 (-9.600000000000033)\n",
      "Epsilon 0.1000 | Epoch 070/090 | Loss 0.0174 | Win/lose count 8.800000000000002/20.900000000000034 (-12.100000000000032)\n",
      "Epsilon 0.1000 | Epoch 071/090 | Loss 0.0117 | Win/lose count 19.199999999999996/25.30000000000005 (-6.100000000000055)\n",
      "Epsilon 0.1000 | Epoch 072/090 | Loss 0.0165 | Win/lose count 14.400000000000007/19.499999999999996 (-5.099999999999989)\n",
      "Epsilon 0.1000 | Epoch 073/090 | Loss 0.0169 | Win/lose count 18.4/17.499999999999986 (0.9000000000000128)\n",
      "Epsilon 0.1000 | Epoch 074/090 | Loss 0.0261 | Win/lose count 15.200000000000008/19.300000000000015 (-4.100000000000007)\n",
      "Epsilon 0.1000 | Epoch 075/090 | Loss 0.0155 | Win/lose count 21.19999999999999/17.79999999999999 (3.3999999999999986)\n",
      "Epsilon 0.1000 | Epoch 076/090 | Loss 0.0162 | Win/lose count 17.200000000000003/19.80000000000002 (-2.6000000000000156)\n",
      "Epsilon 0.1000 | Epoch 077/090 | Loss 0.0153 | Win/lose count 15.600000000000009/22.200000000000028 (-6.600000000000019)\n",
      "Epsilon 0.1000 | Epoch 078/090 | Loss 0.0293 | Win/lose count 13.200000000000006/24.800000000000068 (-11.600000000000062)\n",
      "Epsilon 0.1000 | Epoch 079/090 | Loss 0.0133 | Win/lose count 14.400000000000007/23.500000000000057 (-9.10000000000005)\n",
      "Epsilon 0.1000 | Epoch 080/090 | Loss 0.0111 | Win/lose count 18.0/19.60000000000002 (-1.6000000000000192)\n",
      "Epsilon 0.1000 | Epoch 081/090 | Loss 0.0117 | Win/lose count 15.600000000000009/17.199999999999978 (-1.5999999999999694)\n",
      "Epsilon 0.1000 | Epoch 082/090 | Loss 0.0178 | Win/lose count 10.400000000000004/21.500000000000032 (-11.100000000000028)\n",
      "Epsilon 0.1000 | Epoch 083/090 | Loss 0.0146 | Win/lose count 8.800000000000002/22.90000000000007 (-14.100000000000067)\n",
      "Epsilon 0.1000 | Epoch 084/090 | Loss 0.0160 | Win/lose count 12.000000000000005/19.1 (-7.099999999999996)\n",
      "Epsilon 0.1000 | Epoch 085/090 | Loss 0.0195 | Win/lose count 17.6/20.70000000000004 (-3.100000000000037)\n",
      "Epsilon 0.1000 | Epoch 086/090 | Loss 0.0156 | Win/lose count 17.200000000000003/22.80000000000004 (-5.600000000000037)\n",
      "Epsilon 0.1000 | Epoch 087/090 | Loss 0.0178 | Win/lose count 14.800000000000008/23.400000000000066 (-8.600000000000058)\n",
      "Epsilon 0.1000 | Epoch 088/090 | Loss 0.0190 | Win/lose count 13.600000000000007/21.70000000000003 (-8.100000000000025)\n",
      "Epsilon 0.1000 | Epoch 089/090 | Loss 0.0321 | Win/lose count 10.000000000000004/17.59999999999998 (-7.5999999999999766)\n",
      "Epsilon 0.1000 | Epoch 090/090 | Loss 0.0180 | Win/lose count 13.600000000000007/21.70000000000005 (-8.100000000000042)\n"
     ]
    },
    {
     "data": {
      "text/html": [
       "<video alt=\"test\" controls>\n",
       "                <source src=\"data:video/mp4;base64,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\" type=\"video/mp4\" />\n",
       "             </video>"
      ],
      "text/plain": [
       "<IPython.core.display.HTML object>"
      ]
     },
     "execution_count": 112,
     "metadata": {
      "tags": []
     },
     "output_type": "execute_result"
    }
   ],
   "source": [
    "# Training DQN_CNN\n",
    "epochs_train = 90\n",
    "env = EnvironmentExploring(grid_size=size, max_time=T, temperature=0.3)\n",
    "agent_cnn = DQN_CNN(size, lr=.1, epsilon = 0.7, memory_size=2000, batch_size = 32,n_state=3)\n",
    "train_explore(agent_cnn, env, epochs_train, prefix='cnn_train_explore')\n",
    "HTML(display_videos('cnn_train_explore80.mp4'))"
   ]
  },
  {
   "cell_type": "code",
   "execution_count": 116,
   "metadata": {
    "colab": {
     "base_uri": "https://localhost:8080/",
     "height": 562
    },
    "colab_type": "code",
    "id": "aOKym4d_Qn0r",
    "outputId": "304e3bc4-7998-4376-95f3-dc764ff49004"
   },
   "outputs": [
    {
     "name": "stdout",
     "output_type": "stream",
     "text": [
      "Win/lose count 13.0/3.0. Average score (10.0)\n",
      "Win/lose count 20.0/4.0. Average score (13.0)\n",
      "Win/lose count 8.5/1.0. Average score (11.166666666666666)\n",
      "Win/lose count 15.5/1.0. Average score (12.0)\n",
      "Win/lose count 9.5/1.0. Average score (11.3)\n",
      "Win/lose count 16.5/4.0. Average score (11.5)\n",
      "Win/lose count 13.5/2.0. Average score (11.5)\n",
      "Win/lose count 13.5/5.0. Average score (11.125)\n",
      "Win/lose count 6.0/0. Average score (10.555555555555555)\n",
      "Win/lose count 17.0/2.0. Average score (11.0)\n",
      "Win/lose count 21.0/2.0. Average score (11.727272727272727)\n",
      "Win/lose count 14.0/1.0. Average score (11.833333333333334)\n",
      "Win/lose count 18.5/1.0. Average score (12.26923076923077)\n",
      "Win/lose count 17.0/1.0. Average score (12.535714285714286)\n",
      "Win/lose count 9.5/2.0. Average score (12.2)\n",
      "Final score: 12.2\n"
     ]
    },
    {
     "data": {
      "text/html": [
       "<video alt=\"test\" controls>\n",
       "                <source src=\"data:video/mp4;base64,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\" type=\"video/mp4\" />\n",
       "             </video>"
      ],
      "text/plain": [
       "<IPython.core.display.HTML object>"
      ]
     },
     "execution_count": 116,
     "metadata": {
      "tags": []
     },
     "output_type": "execute_result"
    }
   ],
   "source": [
    "# Evaluation DQN_FC\n",
    "test(agent_fc,env,epochs_test,prefix='fc_test_explore')\n",
    "HTML(display_videos('fc_test_explore10.mp4'))"
   ]
  },
  {
   "cell_type": "code",
   "execution_count": 134,
   "metadata": {
    "colab": {
     "base_uri": "https://localhost:8080/",
     "height": 562
    },
    "colab_type": "code",
    "id": "4PYmL0rWZuTQ",
    "outputId": "9b6f5e4f-6837-4af2-fbf3-1d9579ecd04f"
   },
   "outputs": [
    {
     "name": "stdout",
     "output_type": "stream",
     "text": [
      "Win/lose count 17.0/2.0. Average score (15.0)\n",
      "Win/lose count 17.5/1.0. Average score (15.75)\n",
      "Win/lose count 21.5/4.0. Average score (16.333333333333332)\n",
      "Win/lose count 23.0/5.0. Average score (16.75)\n",
      "Win/lose count 24.5/10.0. Average score (16.3)\n",
      "Win/lose count 19.5/2.0. Average score (16.5)\n",
      "Win/lose count 18.0/5.0. Average score (16.0)\n",
      "Win/lose count 21.5/5.0. Average score (16.0625)\n",
      "Win/lose count 18.5/0. Average score (16.333333333333332)\n",
      "Win/lose count 10.5/1.0. Average score (15.65)\n",
      "Win/lose count 26.0/1.0. Average score (16.5)\n",
      "Win/lose count 24.0/1.0. Average score (17.041666666666668)\n",
      "Win/lose count 20.5/1.0. Average score (17.23076923076923)\n",
      "Win/lose count 16.0/4.0. Average score (16.857142857142858)\n",
      "Win/lose count 24.0/6.0. Average score (16.933333333333334)\n",
      "Final score: 16.933333333333334\n"
     ]
    },
    {
     "data": {
      "text/html": [
       "<video alt=\"test\" controls>\n",
       "                <source src=\"data:video/mp4;base64,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\" type=\"video/mp4\" />\n",
       "             </video>"
      ],
      "text/plain": [
       "<IPython.core.display.HTML object>"
      ]
     },
     "execution_count": 134,
     "metadata": {
      "tags": []
     },
     "output_type": "execute_result"
    }
   ],
   "source": [
    "# Evaluation DQN_CNN\n",
    "test(agent_cnn,env,epochs_test,prefix='cnn_test_explore')\n",
    "HTML(display_videos('cnn_test_explore10.mp4'))"
   ]
  },
  {
   "cell_type": "markdown",
   "metadata": {
    "colab_type": "text",
    "id": "IPN23cC0HCsO"
   },
   "source": [
    "We can see with these two ideas, the models work better. The average score in the test was improved from 9.1 to **16.93** for the DQN using a cnn model and from 7.26 to **12.2** for the Fc model"
   ]
  },
  {
   "cell_type": "markdown",
   "metadata": {
    "colab_type": "text",
    "id": "Wz3QP8lT-OiJ"
   },
   "source": [
    "***\n",
    "***\n",
    "__BONUS question__ Use the expert DQN from the previous question to generate some winning games. Train a model that mimicks its behavior. Compare the performances."
   ]
  },
  {
   "cell_type": "markdown",
   "metadata": {
    "colab_type": "text",
    "id": "y5tzLuFX-OiK"
   },
   "source": [
    "To train a model that mimicks our best DQN model, we will first generate 10000 wining games. After that we will extract each state with shape $(5,5,3)$ to add it to X the input of our model, and each action taken by the agent that corresponds to this state and add it to y. Finally, we get a dataset where X contains state samples and y contains corresponds actions taken by the agent. After that, we will train a cnn model to mimicks these actions and test it as we tested the other agent."
   ]
  },
  {
   "cell_type": "code",
   "execution_count": 0,
   "metadata": {
    "colab": {},
    "colab_type": "code",
    "id": "4q3DQpPkFdKe"
   },
   "outputs": [],
   "source": [
    "import copy\n",
    "from keras.utils import to_categorical\n",
    "\n",
    "def generate_games(n, env, agent):\n",
    "  games = {}\n",
    "  X = []\n",
    "  y = []\n",
    "  i= 0\n",
    "  while len(games)< n :\n",
    "    game = []\n",
    "    actions = []\n",
    "    state = env.reset()\n",
    "    game_over = False\n",
    "    win = 0\n",
    "    while not game_over:\n",
    "      ex_state = state.copy()\n",
    "      action = agent.act(state)\n",
    "      state, reward, game_over = env.act(action)\n",
    "            # Update the counters\n",
    "      if reward > 0:\n",
    "        win = win + reward\n",
    "        game.append(ex_state)\n",
    "        X.append(ex_state)\n",
    "        y.append(to_categorical(action,num_classes=4).reshape(4,))\n",
    "        actions.append(to_categorical(action,num_classes=4).reshape(4,))\n",
    "    games[i] = {'game': game, 'action': actions}   \n",
    "    i+=1\n",
    "    if len(games)%200 == 0 : print('{} games simulated'.format(len(games)))\n",
    "  return games, np.array(X),np.array(y)"
   ]
  },
  {
   "cell_type": "code",
   "execution_count": 222,
   "metadata": {
    "colab": {
     "base_uri": "https://localhost:8080/",
     "height": 252
    },
    "colab_type": "code",
    "id": "sVsionKM-Jf0",
    "outputId": "1e101041-a4e3-404c-9ef9-805e9f99758d"
   },
   "outputs": [
    {
     "name": "stdout",
     "output_type": "stream",
     "text": [
      "200 games simulated\n",
      "400 games simulated\n",
      "600 games simulated\n",
      "800 games simulated\n",
      "1000 games simulated\n",
      "1200 games simulated\n",
      "1400 games simulated\n",
      "1600 games simulated\n",
      "1800 games simulated\n",
      "2000 games simulated\n",
      "Shape of X train (50276, 5, 5, 3)\n",
      "Shape of y train (50276, 4)\n",
      "Shape of X test (21548, 5, 5, 3)\n",
      "Shape of y test (21548, 4)\n"
     ]
    }
   ],
   "source": [
    "n_games = 2000\n",
    "games, X, y = generate_games(n_games, env, agent_cnn)\n",
    "from sklearn.model_selection import train_test_split\n",
    "X_train, X_val, y_train, y_val = train_test_split( X, y, test_size=0.3, random_state=42)\n",
    "print('Shape of X train', X_train.shape)\n",
    "print('Shape of y train', y_train.shape)\n",
    "print('Shape of X test', X_val.shape)\n",
    "print('Shape of y test', y_val.shape)"
   ]
  },
  {
   "cell_type": "code",
   "execution_count": 282,
   "metadata": {
    "colab": {
     "base_uri": "https://localhost:8080/",
     "height": 370
    },
    "colab_type": "code",
    "id": "x2WyNTm5JCyR",
    "outputId": "b9a03029-0d3c-468c-ba97-667f125d6ec5"
   },
   "outputs": [
    {
     "name": "stdout",
     "output_type": "stream",
     "text": [
      "Model: \"sequential_68\"\n",
      "_________________________________________________________________\n",
      "Layer (type)                 Output Shape              Param #   \n",
      "=================================================================\n",
      "conv2d_118 (Conv2D)          (None, 4, 4, 16)          208       \n",
      "_________________________________________________________________\n",
      "dropout_40 (Dropout)         (None, 4, 4, 16)          0         \n",
      "_________________________________________________________________\n",
      "conv2d_119 (Conv2D)          (None, 3, 3, 32)          2080      \n",
      "_________________________________________________________________\n",
      "flatten_49 (Flatten)         (None, 288)               0         \n",
      "_________________________________________________________________\n",
      "dense_67 (Dense)             (None, 128)               36992     \n",
      "_________________________________________________________________\n",
      "dense_68 (Dense)             (None, 4)                 516       \n",
      "=================================================================\n",
      "Total params: 39,796\n",
      "Trainable params: 39,796\n",
      "Non-trainable params: 0\n",
      "_________________________________________________________________\n",
      "None\n"
     ]
    }
   ],
   "source": [
    "\n",
    "model = Sequential()\n",
    "model.add(Conv2D(16, (2,2), input_shape = (5,5,3), activation = 'relu'))\n",
    "model.add(Dropout(0.2))\n",
    "model.add(Conv2D(32, (2,2),activation = 'relu'))\n",
    "#model.add(MaxPooling2D((1,1)))\n",
    "model.add(Flatten())\n",
    "model.add(Dense(128,activation='relu'))\n",
    "model.add(Dense(y_train.shape[1], activation = 'softmax'))\n",
    "model.compile(optimizer = 'adam', loss = 'categorical_crossentropy',  metrics = ['accuracy'] )\n",
    "\n",
    "print(model.summary())"
   ]
  },
  {
   "cell_type": "code",
   "execution_count": 283,
   "metadata": {
    "colab": {
     "base_uri": "https://localhost:8080/",
     "height": 403
    },
    "colab_type": "code",
    "id": "Z0TXvmrHJtrL",
    "outputId": "f7d003f5-2cb1-429e-df0d-a0f19db4ffb1"
   },
   "outputs": [
    {
     "name": "stderr",
     "output_type": "stream",
     "text": [
      "/usr/local/lib/python3.6/dist-packages/ipykernel_launcher.py:7: UserWarning: The `nb_epoch` argument in `fit` has been renamed `epochs`.\n",
      "  import sys\n"
     ]
    },
    {
     "name": "stdout",
     "output_type": "stream",
     "text": [
      "Train on 50276 samples, validate on 21548 samples\n",
      "Epoch 1/5\n",
      "50276/50276 [==============================] - 14s 281us/step - loss: 0.2211 - acc: 0.9114 - val_loss: 0.1316 - val_acc: 0.9483\n",
      "\n",
      "Epoch 00001: val_acc improved from -inf to 0.94830, saving model to mimic_model.hdf5\n",
      "Epoch 2/5\n",
      "50276/50276 [==============================] - 11s 217us/step - loss: 0.1449 - acc: 0.9413 - val_loss: 0.1246 - val_acc: 0.9519\n",
      "\n",
      "Epoch 00002: val_acc improved from 0.94830 to 0.95192, saving model to mimic_model.hdf5\n",
      "Epoch 3/5\n",
      "50276/50276 [==============================] - 11s 211us/step - loss: 0.1336 - acc: 0.9473 - val_loss: 0.1142 - val_acc: 0.9590\n",
      "\n",
      "Epoch 00003: val_acc improved from 0.95192 to 0.95898, saving model to mimic_model.hdf5\n",
      "Epoch 4/5\n",
      "50276/50276 [==============================] - 11s 212us/step - loss: 0.1252 - acc: 0.9513 - val_loss: 0.1223 - val_acc: 0.9514\n",
      "\n",
      "Epoch 00004: val_acc did not improve from 0.95898\n",
      "Epoch 5/5\n",
      "50276/50276 [==============================] - 11s 225us/step - loss: 0.1197 - acc: 0.9540 - val_loss: 0.1220 - val_acc: 0.9528\n",
      "\n",
      "Epoch 00005: val_acc did not improve from 0.95898\n"
     ]
    }
   ],
   "source": [
    "from keras.callbacks import ModelCheckpoint\n",
    "\n",
    "checkpointer = ModelCheckpoint(filepath='mimic_model.hdf5', verbose=1,\n",
    "                                               save_best_only=True, monitor='val_acc')\n",
    "bs = 32\n",
    "n_epochs = 5\n",
    "history = model.fit(X_train, y_train, batch_size=bs, nb_epoch=n_epochs, validation_data=(X_val, y_val),callbacks=[checkpointer])\n"
   ]
  },
  {
   "cell_type": "code",
   "execution_count": 284,
   "metadata": {
    "colab": {
     "base_uri": "https://localhost:8080/",
     "height": 562
    },
    "colab_type": "code",
    "id": "98-gnLTXboj3",
    "outputId": "fd7506fe-f01c-4b6e-f64e-eb4bde803c53"
   },
   "outputs": [
    {
     "name": "stdout",
     "output_type": "stream",
     "text": [
      "Win/lose count 19.5/2.0. Average score (17.5)\n",
      "Win/lose count 20.5/2.0. Average score (18.0)\n",
      "Win/lose count 19.0/3.0. Average score (17.333333333333332)\n",
      "Win/lose count 3.0/1.0. Average score (13.5)\n",
      "Win/lose count 11.5/0. Average score (13.1)\n",
      "Win/lose count 21.5/6.0. Average score (13.5)\n",
      "Win/lose count 14.0/0. Average score (13.571428571428571)\n",
      "Win/lose count 15.0/1.0. Average score (13.625)\n",
      "Win/lose count 3.5/0. Average score (12.5)\n",
      "Win/lose count 6.5/1.0. Average score (11.8)\n",
      "Win/lose count 25.5/3.0. Average score (12.772727272727273)\n",
      "Win/lose count 27.5/1.0. Average score (13.916666666666666)\n",
      "Win/lose count 14.0/0. Average score (13.923076923076923)\n",
      "Win/lose count 15.5/0. Average score (14.035714285714286)\n",
      "Win/lose count 24.0/6.0. Average score (14.3)\n",
      "Final score: 14.3\n"
     ]
    },
    {
     "data": {
      "text/html": [
       "<video alt=\"test\" controls>\n",
       "                <source src=\"data:video/mp4;base64,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\" type=\"video/mp4\" />\n",
       "             </video>"
      ],
      "text/plain": [
       "<IPython.core.display.HTML object>"
      ]
     },
     "execution_count": 284,
     "metadata": {
      "tags": []
     },
     "output_type": "execute_result"
    }
   ],
   "source": [
    "# Evaluation mimics model\n",
    "model = load_model('mimic_model.hdf5')\n",
    "test(model,env,epochs_test,prefix='mimic_test', mimics=True)\n",
    "HTML(display_videos('mimic_test10.mp4'))"
   ]
  },
  {
   "cell_type": "markdown",
   "metadata": {
    "colab_type": "text",
    "id": "m9d0A9MLF4B5"
   },
   "source": [
    "It didn't improve really the model. The QDN CNN works better"
   ]
  },
  {
   "cell_type": "markdown",
   "metadata": {
    "colab_type": "text",
    "id": "GSAU25i5-OiL"
   },
   "source": [
    "***"
   ]
  }
 ],
 "metadata": {
  "colab": {
   "name": "hw.ipynb",
   "provenance": []
  },
  "kernelspec": {
   "display_name": "Python 3",
   "language": "python",
   "name": "python3"
  },
  "language_info": {
   "codemirror_mode": {
    "name": "ipython",
    "version": 3
   },
   "file_extension": ".py",
   "mimetype": "text/x-python",
   "name": "python",
   "nbconvert_exporter": "python",
   "pygments_lexer": "ipython3",
   "version": "3.7.1"
  }
 },
 "nbformat": 4,
 "nbformat_minor": 1
}
